{
 "cells": [
  {
   "cell_type": "code",
   "execution_count": 45,
   "id": "f61ea4bf",
   "metadata": {},
   "outputs": [],
   "source": [
    "class BinaryTreeNode:\n",
    "    def __init__(self, data=None, left=None, right=None):\n",
    "        self.data = data\n",
    "        self.left = left\n",
    "        self.right = right\n",
    "        \n",
    "    def __repr__(self):\n",
    "        return str(self.data)"
   ]
  },
  {
   "cell_type": "code",
   "execution_count": 80,
   "id": "aaff879a",
   "metadata": {},
   "outputs": [],
   "source": [
    "class BinaryTree:\n",
    "    def __init__(self, root=None):\n",
    "        self.root = root\n",
    "        \n",
    "    def tree_traversal(self, root, ttype='inorder'):\n",
    "        if ttype == 'inorder':\n",
    "            self.traverse_inorder(root)\n",
    "        elif ttype == 'preorder':\n",
    "            self.traverse_preorder(root)\n",
    "        elif ttype == 'postorder':\n",
    "            self.traverse_postorder(root)\n",
    "        else:\n",
    "            print('invalid traversal type')\n",
    "            \n",
    "    def traverse_inorder(self, root):\n",
    "        if root:\n",
    "            self.traverse_inorder(root.left)\n",
    "            print(root.data)\n",
    "            self.traverse_inorder(root.right)\n",
    "            \n",
    "    def traverse_preorder(self, root):\n",
    "        if root:\n",
    "            print(root.data)\n",
    "            self.traverse_preorder(root.left)\n",
    "            self.traverse_preorder(root.right)\n",
    "            \n",
    "    def traverse_postorder(self, root):\n",
    "        if root:\n",
    "            self.traverse_postorder(root.left)\n",
    "            self.traverse_postorder(root.right)\n",
    "            print(root.data)"
   ]
  },
  {
   "cell_type": "code",
   "execution_count": 81,
   "id": "8545fb66",
   "metadata": {},
   "outputs": [
    {
     "name": "stdout",
     "output_type": "stream",
     "text": [
      "Inorder:\n",
      "1\n",
      "2\n",
      "3\n",
      "Preorder:\n",
      "2\n",
      "1\n",
      "3\n",
      "Postorder:\n",
      "1\n",
      "3\n",
      "2\n"
     ]
    }
   ],
   "source": [
    "left_node = BinaryTreeNode(1)\n",
    "right_node = BinaryTreeNode(3)\n",
    "root_node = BinaryTreeNode(2, left_node, right_node)\n",
    "btree = BinaryTree(root_node)\n",
    "print(\"Inorder:\")\n",
    "btree.tree_traversal(root_node, 'inorder')\n",
    "print(\"Preorder:\")\n",
    "btree.tree_traversal(root_node, 'preorder')\n",
    "print(\"Postorder:\")\n",
    "btree.tree_traversal(root_node, 'postorder')"
   ]
  },
  {
   "cell_type": "code",
   "execution_count": 2,
   "id": "9cfdc32a",
   "metadata": {},
   "outputs": [],
   "source": []
  },
  {
   "cell_type": "code",
   "execution_count": 17,
   "id": "192d0576",
   "metadata": {},
   "outputs": [
    {
     "name": "stdout",
     "output_type": "stream",
     "text": [
      "calling 'Hello' 4 times\n",
      "calling 'Hello' 3 times\n",
      "calling 'Hello' 2 times\n",
      "calling 'Hello' 1 times\n",
      "calling 'Hello' 0 times\n"
     ]
    }
   ],
   "source": [
    "def callme(msg, times):\n",
    "    if times > 0:\n",
    "        times -= 1\n",
    "        print(f\"calling '{msg}' {times} times\")\n",
    "    \n",
    "        callme(msg, times)\n",
    "    \n",
    "callme(\"Hello\", 5)"
   ]
  },
  {
   "cell_type": "code",
   "execution_count": 52,
   "id": "aaf7340b",
   "metadata": {},
   "outputs": [],
   "source": [
    "class Node:\n",
    "    def __init__(self, key):\n",
    "        self.left = None\n",
    "        self.right = None\n",
    "        self.val = key\n",
    " \n",
    " \n",
    "# A function to do inorder tree traversal\n",
    "def printInorder(root):\n",
    " \n",
    "    if root:\n",
    " \n",
    "        # First recur on left child\n",
    "        printInorder(root.left)\n",
    " \n",
    "        # then print the data of node\n",
    "        print(root.val),\n",
    " \n",
    "        # now recur on right child\n",
    "        printInorder(root.right)"
   ]
  },
  {
   "cell_type": "code",
   "execution_count": 54,
   "id": "6ed9cdea",
   "metadata": {},
   "outputs": [
    {
     "name": "stdout",
     "output_type": "stream",
     "text": [
      "4\n",
      "2\n",
      "5\n",
      "1\n",
      "3\n"
     ]
    }
   ],
   "source": [
    "root = Node(1)\n",
    "root.left = Node(2)\n",
    "root.right = Node(3)\n",
    "root.left.left = Node(4)\n",
    "root.left.right = Node(5)\n",
    "\n",
    "printInorder(root)"
   ]
  }
 ],
 "metadata": {
  "kernelspec": {
   "display_name": "Python 3",
   "language": "python",
   "name": "python3"
  },
  "language_info": {
   "codemirror_mode": {
    "name": "ipython",
    "version": 3
   },
   "file_extension": ".py",
   "mimetype": "text/x-python",
   "name": "python",
   "nbconvert_exporter": "python",
   "pygments_lexer": "ipython3",
   "version": "3.7.0"
  },
  "toc": {
   "base_numbering": 1,
   "nav_menu": {},
   "number_sections": true,
   "sideBar": true,
   "skip_h1_title": false,
   "title_cell": "Table of Contents",
   "title_sidebar": "Contents",
   "toc_cell": false,
   "toc_position": {},
   "toc_section_display": true,
   "toc_window_display": false
  },
  "varInspector": {
   "cols": {
    "lenName": 16,
    "lenType": 16,
    "lenVar": "500"
   },
   "kernels_config": {
    "python": {
     "delete_cmd_postfix": "",
     "delete_cmd_prefix": "del ",
     "library": "var_list.py",
     "varRefreshCmd": "print(var_dic_list())"
    },
    "r": {
     "delete_cmd_postfix": ") ",
     "delete_cmd_prefix": "rm(",
     "library": "var_list.r",
     "varRefreshCmd": "cat(var_dic_list()) "
    }
   },
   "types_to_exclude": [
    "module",
    "function",
    "builtin_function_or_method",
    "instance",
    "_Feature"
   ],
   "window_display": false
  }
 },
 "nbformat": 4,
 "nbformat_minor": 5
}
