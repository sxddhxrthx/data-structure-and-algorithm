{
 "cells": [
  {
   "cell_type": "code",
   "execution_count": 2,
   "source": [
    "class BinaryTreeNode:\r\n",
    "    def __init__(self, data=None, left=None, right=None):\r\n",
    "        self.data = data\r\n",
    "        self.left = left\r\n",
    "        self.right = right\r\n",
    "        \r\n",
    "    def __repr__(self):\r\n",
    "        return str(self.data)"
   ],
   "outputs": [],
   "metadata": {}
  },
  {
   "cell_type": "code",
   "execution_count": 3,
   "source": [
    "class BinaryTree:\r\n",
    "    def __init__(self, root=None):\r\n",
    "        self.root = root\r\n",
    "        \r\n",
    "    def tree_traversal(self, root, ttype='inorder'):\r\n",
    "        if ttype == 'inorder':\r\n",
    "            self.traverse_inorder(root)\r\n",
    "        elif ttype == 'preorder':\r\n",
    "            self.traverse_preorder(root)\r\n",
    "        elif ttype == 'postorder':\r\n",
    "            self.traverse_postorder(root)\r\n",
    "        else:\r\n",
    "            print('invalid traversal type')\r\n",
    "            \r\n",
    "    def traverse_inorder(self, root):\r\n",
    "        if root:\r\n",
    "            self.traverse_inorder(root.left)\r\n",
    "            print(root.data)\r\n",
    "            self.traverse_inorder(root.right)\r\n",
    "            \r\n",
    "    def traverse_preorder(self, root):\r\n",
    "        if root:\r\n",
    "            print(root.data)\r\n",
    "            self.traverse_preorder(root.left)\r\n",
    "            self.traverse_preorder(root.right)\r\n",
    "            \r\n",
    "    def traverse_postorder(self, root):\r\n",
    "        if root:\r\n",
    "            self.traverse_postorder(root.left)\r\n",
    "            self.traverse_postorder(root.right)\r\n",
    "            print(root.data)"
   ],
   "outputs": [],
   "metadata": {}
  },
  {
   "cell_type": "code",
   "execution_count": 4,
   "source": [
    "left_node = BinaryTreeNode(1)\r\n",
    "right_node = BinaryTreeNode(3)\r\n",
    "root_node = BinaryTreeNode(2, left_node, right_node)\r\n",
    "btree = BinaryTree(root_node)\r\n",
    "print(\"Inorder:\")\r\n",
    "btree.tree_traversal(root_node, 'inorder')\r\n",
    "print(\"Preorder:\")\r\n",
    "btree.tree_traversal(root_node, 'preorder')\r\n",
    "print(\"Postorder:\")\r\n",
    "btree.tree_traversal(root_node, 'postorder')"
   ],
   "outputs": [
    {
     "output_type": "stream",
     "name": "stdout",
     "text": [
      "Inorder:\n",
      "1\n",
      "2\n",
      "3\n",
      "Preorder:\n",
      "2\n",
      "1\n",
      "3\n",
      "Postorder:\n",
      "1\n",
      "3\n",
      "2\n"
     ]
    }
   ],
   "metadata": {}
  },
  {
   "cell_type": "code",
   "execution_count": 17,
   "source": [
    "def callme(msg, times):\r\n",
    "    if times > 0:\r\n",
    "        times -= 1\r\n",
    "        print(f\"calling '{msg}' {times} times\")\r\n",
    "    \r\n",
    "        callme(msg, times)\r\n",
    "    \r\n",
    "callme(\"Hello\", 5)"
   ],
   "outputs": [
    {
     "output_type": "stream",
     "name": "stdout",
     "text": [
      "calling 'Hello' 4 times\n",
      "calling 'Hello' 3 times\n",
      "calling 'Hello' 2 times\n",
      "calling 'Hello' 1 times\n",
      "calling 'Hello' 0 times\n"
     ]
    }
   ],
   "metadata": {}
  },
  {
   "cell_type": "code",
   "execution_count": 52,
   "source": [
    "class Node:\r\n",
    "    def __init__(self, key):\r\n",
    "        self.left = None\r\n",
    "        self.right = None\r\n",
    "        self.val = key\r\n",
    " \r\n",
    " \r\n",
    "# A function to do inorder tree traversal\r\n",
    "def printInorder(root):\r\n",
    " \r\n",
    "    if root:\r\n",
    " \r\n",
    "        # First recur on left child\r\n",
    "        printInorder(root.left)\r\n",
    " \r\n",
    "        # then print the data of node\r\n",
    "        print(root.val),\r\n",
    " \r\n",
    "        # now recur on right child\r\n",
    "        printInorder(root.right)"
   ],
   "outputs": [],
   "metadata": {}
  },
  {
   "cell_type": "code",
   "execution_count": 54,
   "source": [
    "root = Node(1)\r\n",
    "root.left = Node(2)\r\n",
    "root.right = Node(3)\r\n",
    "root.left.left = Node(4)\r\n",
    "root.left.right = Node(5)\r\n",
    "\r\n",
    "printInorder(root)"
   ],
   "outputs": [
    {
     "output_type": "stream",
     "name": "stdout",
     "text": [
      "4\n",
      "2\n",
      "5\n",
      "1\n",
      "3\n"
     ]
    }
   ],
   "metadata": {}
  }
 ],
 "metadata": {
  "kernelspec": {
   "name": "python3",
   "display_name": "Python 3.7.0 32-bit ('Data_Structure_and_Algorithm--NGXisx_': virtualenv)"
  },
  "language_info": {
   "codemirror_mode": {
    "name": "ipython",
    "version": 3
   },
   "file_extension": ".py",
   "mimetype": "text/x-python",
   "name": "python",
   "nbconvert_exporter": "python",
   "pygments_lexer": "ipython3",
   "version": "3.7.0"
  },
  "toc": {
   "base_numbering": 1,
   "nav_menu": {},
   "number_sections": true,
   "sideBar": true,
   "skip_h1_title": false,
   "title_cell": "Table of Contents",
   "title_sidebar": "Contents",
   "toc_cell": false,
   "toc_position": {},
   "toc_section_display": true,
   "toc_window_display": false
  },
  "varInspector": {
   "cols": {
    "lenName": 16,
    "lenType": 16,
    "lenVar": "500"
   },
   "kernels_config": {
    "python": {
     "delete_cmd_postfix": "",
     "delete_cmd_prefix": "del ",
     "library": "var_list.py",
     "varRefreshCmd": "print(var_dic_list())"
    },
    "r": {
     "delete_cmd_postfix": ") ",
     "delete_cmd_prefix": "rm(",
     "library": "var_list.r",
     "varRefreshCmd": "cat(var_dic_list()) "
    }
   },
   "types_to_exclude": [
    "module",
    "function",
    "builtin_function_or_method",
    "instance",
    "_Feature"
   ],
   "window_display": false
  },
  "interpreter": {
   "hash": "783268997770d83c806a33a14ed8d344a9c87044636299a158160fb2d7148654"
  }
 },
 "nbformat": 4,
 "nbformat_minor": 5
}