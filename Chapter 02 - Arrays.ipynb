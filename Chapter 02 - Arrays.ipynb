{
 "cells": [
  {
   "cell_type": "markdown",
   "metadata": {},
   "source": [
    "## Contents\n",
    "\n",
    "00. [Bootcamp](#bootcamp)\n",
    "01. [Dutch Flag](#dutch_flag)\n",
    "02. [Increment Arbitrary Precision Integer](#incr_int)\n",
    "03. [Multiply Arbitrary Precision Integer](#multiply_int)\n",
    "04. [Advance Through Array](#array_game)\n",
    "09. [Enumerate Primes to n](#enumerate_primes)\n",
    "10. [Permutate Elements of Array](#permutate_array)"
   ]
  },
  {
   "cell_type": "markdown",
   "metadata": {},
   "source": [
    "## <a name=\"bootcamp\">Bootcamp</a>"
   ]
  },
  {
   "cell_type": "code",
   "execution_count": 4,
   "metadata": {},
   "outputs": [
    {
     "name": "stdout",
     "output_type": "stream",
     "text": [
      "1 9\n"
     ]
    }
   ],
   "source": [
    "a = [1,2,3,4,5,6,7,8,9]\n",
    "i = 0\n",
    "var_a = a[i]\n",
    "var_b = a[~i]\n",
    "print(var_a, var_b)"
   ]
  },
  {
   "cell_type": "code",
   "execution_count": null,
   "metadata": {},
   "outputs": [],
   "source": []
  },
  {
   "cell_type": "markdown",
   "metadata": {},
   "source": [
    "Reorder an array so that even items appear before odd\n",
    "\n",
    "\\[7 9 8 6 2 5 4 3\\] -> \\[8 6 2 4 7 9 5 3\\]"
   ]
  },
  {
   "cell_type": "code",
   "execution_count": 9,
   "metadata": {},
   "outputs": [
    {
     "data": {
      "text/plain": [
       "[8, 6, 2, 4, 7, 9, 5, 3]"
      ]
     },
     "execution_count": 9,
     "metadata": {},
     "output_type": "execute_result"
    }
   ],
   "source": [
    "# O(N)\n",
    "def reorder(arr: list) -> list:\n",
    "    even = []\n",
    "    odd = []\n",
    "    for i in arr: # O(N)\n",
    "        if i%2 == 0:\n",
    "            even.append(i)\n",
    "        else:\n",
    "            odd.append(i)\n",
    "    \n",
    "    if even and odd:\n",
    "        even += odd\n",
    "        return even\n",
    "    elif even and not odd:\n",
    "        print(\"All even\")\n",
    "        return even\n",
    "    elif odd and not even:\n",
    "        print(\"All odd\")\n",
    "        return odd\n",
    "    \n",
    "arr1 = [7, 9, 8, 6, 2, 5, 4, 3]\n",
    "arr2 = [2, 4, 6, 8]\n",
    "arr3 = [1, 3, 5, 7, 9]\n",
    "reordered_array = reorder(arr1)\n",
    "reordered_array"
   ]
  },
  {
   "cell_type": "code",
   "execution_count": 10,
   "metadata": {},
   "outputs": [
    {
     "data": {
      "text/plain": [
       "[1, 0, 0, 0, 0, 0, 0, 0, 0, 0, 0]"
      ]
     },
     "execution_count": 10,
     "metadata": {},
     "output_type": "execute_result"
    }
   ],
   "source": [
    "[1] + [0] * 10"
   ]
  },
  {
   "cell_type": "code",
   "execution_count": 14,
   "metadata": {},
   "outputs": [
    {
     "data": {
      "text/plain": [
       "[2, 4, 8]"
      ]
     },
     "execution_count": 14,
     "metadata": {},
     "output_type": "execute_result"
    }
   ],
   "source": [
    "k = [2,4,8,9]\n",
    "k.remove(9)\n",
    "k"
   ]
  },
  {
   "cell_type": "code",
   "execution_count": 18,
   "metadata": {},
   "outputs": [
    {
     "data": {
      "text/plain": [
       "[1, 2, 3, 5, 4, 5, 6, 7, 8, 9]"
      ]
     },
     "execution_count": 18,
     "metadata": {},
     "output_type": "execute_result"
    }
   ],
   "source": [
    "A = [1,2,3,4,5,6,7,8,9]\n",
    "A.insert(3, 5)\n",
    "A"
   ]
  },
  {
   "cell_type": "markdown",
   "metadata": {},
   "source": [
    "### Rotate a List"
   ]
  },
  {
   "cell_type": "code",
   "execution_count": 19,
   "metadata": {},
   "outputs": [
    {
     "data": {
      "text/plain": [
       "[6, 2, 5, 4, 3, 7, 9, 8]"
      ]
     },
     "execution_count": 19,
     "metadata": {},
     "output_type": "execute_result"
    }
   ],
   "source": [
    "A = [7, 9, 8, 6, 2, 5, 4, 3]\n",
    "k = A[3:] + A[:3]\n",
    "k"
   ]
  },
  {
   "cell_type": "markdown",
   "metadata": {},
   "source": [
    "### Shallow Copy and Deep Copy"
   ]
  },
  {
   "cell_type": "code",
   "execution_count": 21,
   "metadata": {},
   "outputs": [
    {
     "name": "stdout",
     "output_type": "stream",
     "text": [
      "[7, 9, 8, 6, 2, 5, 4, 3, 111]\n",
      "[7, 9, 8, 6, 2, 5, 4, 3]\n"
     ]
    }
   ],
   "source": [
    "A = [7, 9, 8, 6, 2, 5, 4, 3]\n",
    "B = A[:]\n",
    "B\n",
    "A.append(111)\n",
    "print(A)\n",
    "print(B)"
   ]
  },
  {
   "cell_type": "code",
   "execution_count": 26,
   "metadata": {},
   "outputs": [
    {
     "name": "stdout",
     "output_type": "stream",
     "text": [
      "[7, 9, 8, 6, 2, 5, 4, 3, 111] [7, 9, 8, 6, 2, 5, 4, 3]\n"
     ]
    }
   ],
   "source": [
    "from copy import copy\n",
    "A = [7, 9, 8, 6, 2, 5, 4, 3]\n",
    "B = copy(A)\n",
    "B\n",
    "A.append(111)\n",
    "print(A,B)"
   ]
  },
  {
   "cell_type": "code",
   "execution_count": 27,
   "metadata": {},
   "outputs": [
    {
     "name": "stdout",
     "output_type": "stream",
     "text": [
      "[7, 9, 8, 6, 2, 5, 4, 3, 111] [7, 9, 8, 6, 2, 5, 4, 3]\n"
     ]
    }
   ],
   "source": [
    "from copy import deepcopy\n",
    "A = [7, 9, 8, 6, 2, 5, 4, 3]\n",
    "B = deepcopy(A)\n",
    "B\n",
    "A.append(111)\n",
    "print(A,B)"
   ]
  },
  {
   "cell_type": "code",
   "execution_count": 35,
   "metadata": {},
   "outputs": [
    {
     "name": "stdout",
     "output_type": "stream",
     "text": [
      "True\n",
      "True\n",
      "[7, 9, 8, 6, 2, 5, 4, 3, 111] [7, 9, 8, 6, 2, 5, 4, 3, 111]\n",
      "True\n",
      "True\n"
     ]
    }
   ],
   "source": [
    "A = [7, 9, 8, 6, 2, 5, 4, 3]\n",
    "B = A\n",
    "print(A == B)\n",
    "print(A is B)\n",
    "A.append(111)\n",
    "print(A,B)\n",
    "print(A == B)\n",
    "print(A is B)"
   ]
  },
  {
   "cell_type": "code",
   "execution_count": 34,
   "metadata": {},
   "outputs": [
    {
     "name": "stdout",
     "output_type": "stream",
     "text": [
      "True\n",
      "False\n",
      "[7, 9, 8, 6, 2, 5, 4, 3, 111] [7, 9, 8, 6, 2, 5, 4, 3]\n",
      "False\n",
      "False\n"
     ]
    }
   ],
   "source": [
    "A = [7, 9, 8, 6, 2, 5, 4, 3]\n",
    "B = list(A) # this is a shallow copy\n",
    "print(A == B)\n",
    "print(A is B)\n",
    "A.append(111)\n",
    "print(A,B)\n",
    "print(A == B)`\n",
    "print(A is B)"
   ]
  },
  {
   "cell_type": "code",
   "execution_count": 36,
   "metadata": {},
   "outputs": [
    {
     "name": "stdout",
     "output_type": "stream",
     "text": [
      "True\n",
      "True\n"
     ]
    }
   ],
   "source": [
    "a = 10\n",
    "b = a\n",
    "print(a == b)\n",
    "print(a is b)"
   ]
  },
  {
   "cell_type": "code",
   "execution_count": 37,
   "metadata": {},
   "outputs": [
    {
     "name": "stdout",
     "output_type": "stream",
     "text": [
      "True\n",
      "True\n"
     ]
    }
   ],
   "source": [
    "a = 10\n",
    "b = 10\n",
    "print(a == b)\n",
    "print(a is b)"
   ]
  },
  {
   "cell_type": "code",
   "execution_count": 42,
   "metadata": {},
   "outputs": [
    {
     "data": {
      "text/plain": [
       "5"
      ]
     },
     "execution_count": 42,
     "metadata": {},
     "output_type": "execute_result"
    }
   ],
   "source": [
    "import bisect\n",
    "A = [1, 2, 3, 4, 5, 6, 7, 8, 9]\n",
    "B = bisect.bisect(A, 6)\n",
    "C = bisect.bisect_right(A, 6)\n",
    "D = bisect.bisect_left(A, 6)\n",
    "D"
   ]
  },
  {
   "cell_type": "code",
   "execution_count": 45,
   "metadata": {},
   "outputs": [
    {
     "name": "stdout",
     "output_type": "stream",
     "text": [
      "6\n",
      "5\n",
      "4\n",
      "3\n",
      "2\n",
      "1\n",
      "0\n"
     ]
    }
   ],
   "source": [
    "for i in reversed(list(range(7))):\n",
    "    print(i)"
   ]
  },
  {
   "cell_type": "markdown",
   "metadata": {},
   "source": [
    "## <a name=\"dutch_flag\">Dutch Flag</a>"
   ]
  },
  {
   "cell_type": "code",
   "execution_count": 61,
   "metadata": {},
   "outputs": [],
   "source": [
    "\n",
    "\n",
    "def dutch_flag_partition(pivot_index, A):\n",
    "    \n",
    "    pivot = A[pivot_index]\n",
    "\n",
    "    # First pass: group elernents smaller than pivot\n",
    "    for i in range(len(A)):\n",
    "\n",
    "    # Look fot a snaTTer el.ernent,\n",
    "        for j in range(i + 1, len(A)):\n",
    "\n",
    "            if A[j] < pivot:\n",
    "                A[i], A[j] = A[j], A[i]\n",
    "\n",
    "                break\n",
    "        \n",
    "    for i in reversed(range(len(A))):\n",
    "\n",
    "        if A[i] < pivot:\n",
    "            break\n",
    "        # Look for a larger element. Stop when we reach an element less than\n",
    "        # pivot , since first pass has moved them to the start of A.\n",
    "        for j in reversed(range(i)):\n",
    "\n",
    "            if A[j] > pivot:\n",
    "                A[i], A[j] = A[j], A[i]\n",
    "\n",
    "                break\n",
    "                \n",
    "    print(A)"
   ]
  },
  {
   "cell_type": "code",
   "execution_count": 62,
   "metadata": {},
   "outputs": [
    {
     "name": "stdout",
     "output_type": "stream",
     "text": [
      "[0, 0, 1, 1, 2, 2, 1]\n"
     ]
    }
   ],
   "source": [
    "dutch_flag_partition(3, [0, 1, 2, 0, 2, 1, 1])"
   ]
  },
  {
   "cell_type": "code",
   "execution_count": null,
   "metadata": {},
   "outputs": [],
   "source": []
  },
  {
   "cell_type": "code",
   "execution_count": 67,
   "metadata": {},
   "outputs": [],
   "source": [
    "def dutch_flag_partition1(pivot_index , A):\n",
    "    pivot = A[ pivot_index ]\n",
    "    # First pass: group elements smaller than pivot.\n",
    "    smaller = 0\n",
    "    for i in range(len(A)):\n",
    "        if A[i] < pivot:\n",
    "            A[i], A[smaller] = A[smaller], A[i]\n",
    "            smaller += 1\n",
    "    # Second pass: group elements larger than pivot.\n",
    "    larger = len(A) - 1\n",
    "    for i in reversed(range(len(A))):\n",
    "        if A[i] < pivot:\n",
    "            break\n",
    "        elif A[i] > pivot:\n",
    "            A[i], A[larger] = A[larger], A[i]\n",
    "            larger -= 1\n",
    "            \n",
    "    print(A)\n"
   ]
  },
  {
   "cell_type": "code",
   "execution_count": 68,
   "metadata": {},
   "outputs": [
    {
     "name": "stdout",
     "output_type": "stream",
     "text": [
      "[0, 0, 1, 2, 2, 1, 1]\n"
     ]
    }
   ],
   "source": [
    "dutch_flag_partition1(3, [0, 1, 2, 0, 2, 1, 1])"
   ]
  },
  {
   "cell_type": "code",
   "execution_count": null,
   "metadata": {},
   "outputs": [],
   "source": []
  },
  {
   "cell_type": "code",
   "execution_count": null,
   "metadata": {},
   "outputs": [],
   "source": []
  },
  {
   "cell_type": "code",
   "execution_count": 73,
   "metadata": {},
   "outputs": [],
   "source": [
    "def dutch_flag_partition2(pivot_index , A):\n",
    "    pivot = A[ pivot_index ]\n",
    "    # Keep the following invariants during partitioning :\n",
    "    # bottom group: A[: smaller ].\n",
    "    # middle group: A[smaller:equal ].\n",
    "    # unclassified group: A[equal:larger ].\n",
    "    # top group: A[larger :].\n",
    "    smaller , equal , larger = 0, 0, len(A)\n",
    "    # Keep iterating as long as there is an unclassified element.,\n",
    "    while equal < larger:\n",
    "    # A[equal] is the incoming unclassified element.\n",
    "        if A[equal] < pivot:\n",
    "            A[smaller], A[equal] = A[equal], A[smaller]\n",
    "            smaller , equal = smaller + 1, equal + 1\n",
    "        elif A[equal] == pivot:\n",
    "            equal += 1\n",
    "        else: # A[equal] > pivot.\n",
    "            larger -= 1\n",
    "            A[equal], A[larger] = A[larger], A[equal]\n",
    "    print(A, smaller, equal, larger)\n"
   ]
  },
  {
   "cell_type": "code",
   "execution_count": 74,
   "metadata": {},
   "outputs": [
    {
     "name": "stdout",
     "output_type": "stream",
     "text": [
      "[-3, 0, -1, -5, 1, 1, 7, 4, 2, 4] 4 6 6\n"
     ]
    }
   ],
   "source": [
    "pivot_index = 4\n",
    "A = [-3, 0, -1, 1, 1, -5, 4, 7, 4, 2]\n",
    "dutch_flag_partition2(pivot_index , A)"
   ]
  },
  {
   "cell_type": "markdown",
   "metadata": {},
   "source": [
    "## <a name=\"incr_int\">[Increment Arbitrary Integer](#home)</a>\n",
    "\n",
    "Take an input array whose elements when combined forms a number. And return an array whose elements are formed by incrementing the number. Example: A = \\[1, 2, 3\\]. Here number is 123. Return value should be \\[1, 2, 4\\] which makes 124 which is incremented form of 123"
   ]
  },
  {
   "cell_type": "markdown",
   "metadata": {},
   "source": [
    "#### Brute Force Solution"
   ]
  },
  {
   "cell_type": "code",
   "execution_count": 13,
   "metadata": {},
   "outputs": [
    {
     "data": {
      "text/plain": [
       "[2, 6, 1, 2]"
      ]
     },
     "execution_count": 13,
     "metadata": {},
     "output_type": "execute_result"
    }
   ],
   "source": [
    "# O(N) + O(N) + O(N) = O(N)\n",
    "def incr_int(arr: list) -> list:\n",
    "    var = [str(x) for x in arr] # O(N)\n",
    "    new_var = int(\"\".join(var)) # O(N)\n",
    "    new_var += 1\n",
    "    num_str = [int(x) for x in str(new_var)] # O(N)\n",
    "    return num_str\n",
    "\n",
    "val = incr_int([2,6,1,1])\n",
    "val"
   ]
  },
  {
   "cell_type": "markdown",
   "metadata": {},
   "source": [
    "#### Solution By Book"
   ]
  },
  {
   "cell_type": "code",
   "execution_count": 52,
   "metadata": {},
   "outputs": [
    {
     "data": {
      "text/plain": [
       "[1, 1, 0]"
      ]
     },
     "execution_count": 52,
     "metadata": {},
     "output_type": "execute_result"
    }
   ],
   "source": [
    "def incr_int2(A: list) -> list:\n",
    "    A[-1] += 1\n",
    "    for i in reversed(range(1, len(A))): # O(N)\n",
    "        if A[i] != 10:\n",
    "            break\n",
    "        A[i] = 0\n",
    "        A[i - 1] += 1\n",
    "    if A[0] == 10:\n",
    "        A[0] = 1\n",
    "        A.append(0)\n",
    "    return A\n",
    "\n",
    "val = incr_int2([1, 0, 9])\n",
    "val"
   ]
  },
  {
   "cell_type": "markdown",
   "metadata": {},
   "source": [
    "#### Solution by Me"
   ]
  },
  {
   "cell_type": "code",
   "execution_count": 1,
   "metadata": {},
   "outputs": [],
   "source": [
    "from pdb import set_trace\n",
    "\n",
    "def incr_int3(A: list) -> list:\n",
    "    carry_in = 0\n",
    "    A.reverse()\n",
    "    \n",
    "    for index, digit in enumerate(A): # O(N)\n",
    "        if index == 0:\n",
    "            A[index] += 1\n",
    "            carry_in = 0\n",
    "        if index == len(A)-1:\n",
    "            if carry_in == 1:\n",
    "                A[index] += 1\n",
    "                carry_in = 0\n",
    "            if A[index] == 10:\n",
    "                A[index] = 0\n",
    "                A.append(1)\n",
    "                break\n",
    "        if carry_in == 1:\n",
    "            A[index] += 1\n",
    "            carry_in = 0\n",
    "        if A[index] == 10:\n",
    "            A[index] = 0\n",
    "            carry_in += 1\n",
    "        else:\n",
    "            carry_in = 0\n",
    "        \n",
    "                \n",
    "    A.reverse()\n",
    "    return A"
   ]
  },
  {
   "cell_type": "code",
   "execution_count": 2,
   "metadata": {
    "scrolled": true
   },
   "outputs": [
    {
     "data": {
      "text/plain": [
       "[5, 0, 8]"
      ]
     },
     "execution_count": 2,
     "metadata": {},
     "output_type": "execute_result"
    }
   ],
   "source": [
    "arr = incr_int3([5,0,7])\n",
    "arr"
   ]
  },
  {
   "cell_type": "markdown",
   "metadata": {},
   "source": [
    "#### Variation:\n",
    "\n",
    "Take two input array whose elements when combined forms a **BINARY NUMBERS**. And return an array whose elements are formed by adding the number. Example: A = \\[1, 0, 0, 1\\] B = \\[1, 1, 0, 1\\]. Here number are 1001 and 1101. Return value should be \\[1, 0, 1, 1, 0, 1\\] since 1001+1101=101101"
   ]
  },
  {
   "cell_type": "code",
   "execution_count": 3,
   "metadata": {},
   "outputs": [],
   "source": [
    "def binary_sum(A:list, B:list) -> list:\n",
    "    carry = 0\n",
    "    R = [0] * len(A)\n",
    "    \n",
    "    for i,j in zip(reversed(range(0, len(A)-1)), reversed(range(0, len(B)-1))):\n",
    "        \n",
    "        if A[i] == 1 & B[j] == 1:\n",
    "            if carry == 0:\n",
    "                R[i] = 0\n",
    "            if carry == 1:\n",
    "                R[i] = 1\n",
    "            carry = 1\n",
    "        if A[i] == 0 & B[j] == 0:\n",
    "            if carry == 0:\n",
    "                R[i] = 0\n",
    "            if carry == 1:\n",
    "                R[i] = 1\n",
    "            carry = 0\n",
    "        if A[i] == 0 & B[j] == 1:\n",
    "            if carry == 0:\n",
    "                R[i] = 1\n",
    "            if carry == 0:\n",
    "                R[i] = 0\n",
    "        if A[i] == 1 & B[j] == 0:\n",
    "            if carry == 0:\n",
    "                R[i] = 1\n",
    "            if carry == 1:\n",
    "                R[i] = 0\n",
    "        if i == j == 0:\n",
    "            if carry:\n",
    "                R.insert(0, carry)\n",
    "        return R"
   ]
  },
  {
   "cell_type": "code",
   "execution_count": 6,
   "metadata": {},
   "outputs": [
    {
     "data": {
      "text/plain": [
       "[0, 0, 0, 0]"
      ]
     },
     "execution_count": 6,
     "metadata": {},
     "output_type": "execute_result"
    }
   ],
   "source": [
    "val = binary_sum([1,0,0,1], [0,1,1,0])\n",
    "val"
   ]
  },
  {
   "cell_type": "markdown",
   "metadata": {},
   "source": [
    "### <a name=\"multiply_int\"> Multiply Arbitrary Precision Integer</a>\n",
    "\n",
    "Take 2 list as input. List input should contain digits of integers. Return a list containing the digit of multiplication result."
   ]
  },
  {
   "cell_type": "code",
   "execution_count": 24,
   "metadata": {},
   "outputs": [],
   "source": [
    "def multiply_int(A:list, B:list) -> list:\n",
    "    \n",
    "    R = []\n",
    "    num_type = 1 if A[0] > 0 and B[0] > 0 else 0\n",
    "    \n",
    "    A[0] = abs(A[0])\n",
    "    B[0] = abs(B[0])\n",
    "    \n",
    "    outer_multiplier = 1\n",
    "    outer_multiplicated_value = 0\n",
    "    \n",
    "    for i in reversed(B):\n",
    "        \n",
    "        inner_multiplier = 1\n",
    "        inner_multiplicated_value = 0\n",
    "        \n",
    "        for j in reversed(A):\n",
    "            \n",
    "            inner_multiplicated_value += (j*i)*inner_multiplier\n",
    "            inner_multiplier *= 10\n",
    "            \n",
    "        outer_multiplicated_value += inner_multiplicated_value * outer_multiplier\n",
    "        outer_multiplier *= 10\n",
    "        \n",
    "    while outer_multiplicated_value > 0:\n",
    "        \n",
    "        list_item = outer_multiplicated_value % 10\n",
    "        R.append(list_item)\n",
    "        outer_multiplicated_value //= 10\n",
    "        \n",
    "    R.reverse()\n",
    "    \n",
    "    if num_type == 0:\n",
    "        R[0] *= -1\n",
    "        \n",
    "    return R"
   ]
  },
  {
   "cell_type": "code",
   "execution_count": 26,
   "metadata": {},
   "outputs": [
    {
     "data": {
      "text/plain": [
       "[5, 2, 0, 1, 1, 1, 2]"
      ]
     },
     "execution_count": 26,
     "metadata": {},
     "output_type": "execute_result"
    }
   ],
   "source": [
    "R = multiply_int([2,6,1,1], [1,9,9,2])\n",
    "R"
   ]
  },
  {
   "cell_type": "markdown",
   "metadata": {},
   "source": [
    "## <a name=\"array_game\">Advance Through Array</a>\n",
    "\n",
    "In a particular board garne, a player has to try to advance through a sequence of positions. Each position has a nonnegative integer associated with it, representing the maximum you can advance from that position in one move. You begin at the first position, and win by getting to the last position.\n",
    "\n",
    "For example, let A = <3, 3, 1, 0, 0, 2, 0, 1> represent the board game, i.e., the _i_ th entry in A is the maximum we can advance from L Then the game can be won by the following sequence of advances through A: take 1 step from A\\[0\\] to A\\[1\\], then 3 steps from A\\[1\\] to A\\[4\\], then 2 steps from A\\[4\\]toA\\[6\\],which is the last position. Note that A\\[0\\] = 3 >= 1, A\\[1\\] = 3 >= 3, and A\\[4\\] = 2 >= 2,so all moves are valid. If A instead was <3,2,0,0,2,0,1>, it would not possible to advance past position 3, so the game cannot be won.\n",
    "\n",
    "Write a program which takes an array of n integers, where A\\[i\\] denotes the maximum you can advance from index i, and returns whether it is possible to advance to the last index starting from the beginning of the array."
   ]
  },
  {
   "cell_type": "code",
   "execution_count": 33,
   "metadata": {},
   "outputs": [
    {
     "ename": "RecursionError",
     "evalue": "maximum recursion depth exceeded in comparison",
     "output_type": "error",
     "traceback": [
      "\u001b[1;31m---------------------------------------------------------------------------\u001b[0m",
      "\u001b[1;31mRecursionError\u001b[0m                            Traceback (most recent call last)",
      "\u001b[1;32m<ipython-input-33-1de870370417>\u001b[0m in \u001b[0;36m<module>\u001b[1;34m\u001b[0m\n\u001b[0;32m     11\u001b[0m                 \u001b[1;32mreturn\u001b[0m \u001b[0marray_game\u001b[0m\u001b[1;33m(\u001b[0m\u001b[0mA\u001b[0m\u001b[1;33m[\u001b[0m\u001b[0mA\u001b[0m\u001b[1;33m.\u001b[0m\u001b[0mindex\u001b[0m\u001b[1;33m(\u001b[0m\u001b[0mj\u001b[0m\u001b[1;33m)\u001b[0m\u001b[1;33m:\u001b[0m\u001b[1;33m]\u001b[0m\u001b[1;33m)\u001b[0m\u001b[1;33m\u001b[0m\u001b[0m\n\u001b[0;32m     12\u001b[0m \u001b[1;33m\u001b[0m\u001b[0m\n\u001b[1;32m---> 13\u001b[1;33m \u001b[0mval\u001b[0m \u001b[1;33m=\u001b[0m \u001b[0marray_game\u001b[0m\u001b[1;33m(\u001b[0m\u001b[1;33m[\u001b[0m\u001b[1;36m3\u001b[0m\u001b[1;33m,\u001b[0m\u001b[1;36m3\u001b[0m\u001b[1;33m,\u001b[0m\u001b[1;36m1\u001b[0m\u001b[1;33m,\u001b[0m\u001b[1;36m0\u001b[0m\u001b[1;33m,\u001b[0m\u001b[1;36m2\u001b[0m\u001b[1;33m,\u001b[0m\u001b[1;36m0\u001b[0m\u001b[1;33m,\u001b[0m\u001b[1;36m1\u001b[0m\u001b[1;33m]\u001b[0m\u001b[1;33m)\u001b[0m\u001b[1;33m\u001b[0m\u001b[0m\n\u001b[0m\u001b[0;32m     14\u001b[0m \u001b[0mval\u001b[0m\u001b[1;33m\u001b[0m\u001b[0m\n",
      "\u001b[1;32m<ipython-input-33-1de870370417>\u001b[0m in \u001b[0;36marray_game\u001b[1;34m(A)\u001b[0m\n\u001b[0;32m      9\u001b[0m                 \u001b[1;32mreturn\u001b[0m \u001b[0mwin\u001b[0m\u001b[1;33m\u001b[0m\u001b[0m\n\u001b[0;32m     10\u001b[0m             \u001b[1;32melse\u001b[0m\u001b[1;33m:\u001b[0m\u001b[1;33m\u001b[0m\u001b[0m\n\u001b[1;32m---> 11\u001b[1;33m                 \u001b[1;32mreturn\u001b[0m \u001b[0marray_game\u001b[0m\u001b[1;33m(\u001b[0m\u001b[0mA\u001b[0m\u001b[1;33m[\u001b[0m\u001b[0mA\u001b[0m\u001b[1;33m.\u001b[0m\u001b[0mindex\u001b[0m\u001b[1;33m(\u001b[0m\u001b[0mj\u001b[0m\u001b[1;33m)\u001b[0m\u001b[1;33m:\u001b[0m\u001b[1;33m]\u001b[0m\u001b[1;33m)\u001b[0m\u001b[1;33m\u001b[0m\u001b[0m\n\u001b[0m\u001b[0;32m     12\u001b[0m \u001b[1;33m\u001b[0m\u001b[0m\n\u001b[0;32m     13\u001b[0m \u001b[0mval\u001b[0m \u001b[1;33m=\u001b[0m \u001b[0marray_game\u001b[0m\u001b[1;33m(\u001b[0m\u001b[1;33m[\u001b[0m\u001b[1;36m3\u001b[0m\u001b[1;33m,\u001b[0m\u001b[1;36m3\u001b[0m\u001b[1;33m,\u001b[0m\u001b[1;36m1\u001b[0m\u001b[1;33m,\u001b[0m\u001b[1;36m0\u001b[0m\u001b[1;33m,\u001b[0m\u001b[1;36m2\u001b[0m\u001b[1;33m,\u001b[0m\u001b[1;36m0\u001b[0m\u001b[1;33m,\u001b[0m\u001b[1;36m1\u001b[0m\u001b[1;33m]\u001b[0m\u001b[1;33m)\u001b[0m\u001b[1;33m\u001b[0m\u001b[0m\n",
      "... last 1 frames repeated, from the frame below ...\n",
      "\u001b[1;32m<ipython-input-33-1de870370417>\u001b[0m in \u001b[0;36marray_game\u001b[1;34m(A)\u001b[0m\n\u001b[0;32m      9\u001b[0m                 \u001b[1;32mreturn\u001b[0m \u001b[0mwin\u001b[0m\u001b[1;33m\u001b[0m\u001b[0m\n\u001b[0;32m     10\u001b[0m             \u001b[1;32melse\u001b[0m\u001b[1;33m:\u001b[0m\u001b[1;33m\u001b[0m\u001b[0m\n\u001b[1;32m---> 11\u001b[1;33m                 \u001b[1;32mreturn\u001b[0m \u001b[0marray_game\u001b[0m\u001b[1;33m(\u001b[0m\u001b[0mA\u001b[0m\u001b[1;33m[\u001b[0m\u001b[0mA\u001b[0m\u001b[1;33m.\u001b[0m\u001b[0mindex\u001b[0m\u001b[1;33m(\u001b[0m\u001b[0mj\u001b[0m\u001b[1;33m)\u001b[0m\u001b[1;33m:\u001b[0m\u001b[1;33m]\u001b[0m\u001b[1;33m)\u001b[0m\u001b[1;33m\u001b[0m\u001b[0m\n\u001b[0m\u001b[0;32m     12\u001b[0m \u001b[1;33m\u001b[0m\u001b[0m\n\u001b[0;32m     13\u001b[0m \u001b[0mval\u001b[0m \u001b[1;33m=\u001b[0m \u001b[0marray_game\u001b[0m\u001b[1;33m(\u001b[0m\u001b[1;33m[\u001b[0m\u001b[1;36m3\u001b[0m\u001b[1;33m,\u001b[0m\u001b[1;36m3\u001b[0m\u001b[1;33m,\u001b[0m\u001b[1;36m1\u001b[0m\u001b[1;33m,\u001b[0m\u001b[1;36m0\u001b[0m\u001b[1;33m,\u001b[0m\u001b[1;36m2\u001b[0m\u001b[1;33m,\u001b[0m\u001b[1;36m0\u001b[0m\u001b[1;33m,\u001b[0m\u001b[1;36m1\u001b[0m\u001b[1;33m]\u001b[0m\u001b[1;33m)\u001b[0m\u001b[1;33m\u001b[0m\u001b[0m\n",
      "\u001b[1;31mRecursionError\u001b[0m: maximum recursion depth exceeded in comparison"
     ]
    }
   ],
   "source": [
    "def array_game(A:list) -> bool:\n",
    "    win = False\n",
    "    for i in A:\n",
    "        jumps = list(range(1, A[i]+1))\n",
    "        \n",
    "        for j in jumps:\n",
    "            if A.index(j) == len(A)-1:\n",
    "                win = True\n",
    "                return win\n",
    "            else:\n",
    "                return array_game(A[A.index(j):])\n",
    "            \n",
    "val = array_game([3,3,1,0,2,0,1])\n",
    "val"
   ]
  },
  {
   "cell_type": "code",
   "execution_count": 30,
   "metadata": {},
   "outputs": [
    {
     "name": "stdout",
     "output_type": "stream",
     "text": [
      "0\n",
      "1\n",
      "2\n"
     ]
    }
   ],
   "source": [
    "A = [1,2,3]\n",
    "for i in A:\n",
    "    print(A.index(i))"
   ]
  },
  {
   "cell_type": "markdown",
   "metadata": {},
   "source": [
    "## <a name=\"enumerate_primes\">Enumerate Primes to n<a>\n",
    "    \n",
    "Prime numbers are integers greater than 1, and only divisible by 1 and itself <br>\n",
    "**NOTE:** If i has a divisor other than 1 and itself, it must also have a divisor that is no greater than its square root"
   ]
  },
  {
   "cell_type": "markdown",
   "metadata": {},
   "source": [
    "#### BRUTE FORCE SOLUTION:"
   ]
  },
  {
   "cell_type": "code",
   "execution_count": 12,
   "metadata": {},
   "outputs": [
    {
     "data": {
      "text/plain": [
       "[2, 3, 5, 7, 11, 13, 17, 19, 23, 29, 31]"
      ]
     },
     "execution_count": 12,
     "metadata": {},
     "output_type": "execute_result"
    }
   ],
   "source": [
    "n=37\n",
    "\n",
    "arr = list(range(2,n))\n",
    "\n",
    "primes = []\n",
    "for i in arr:\n",
    "    divisors = list(range(1,i+1))\n",
    "    a_divs = []\n",
    "    for j in divisors:\n",
    "        if i%j == 0:\n",
    "            a_divs.append(j)\n",
    "    if len(a_divs) <= 2:\n",
    "        primes.append(i)\n",
    "    \n",
    "primes"
   ]
  },
  {
   "cell_type": "markdown",
   "metadata": {},
   "source": [
    "**Complexity**\n",
    "\n",
    "for i in arr: **$O(n)$** <br>\n",
    "&emsp; for j in divisors: **$O(n)$**\n",
    "    \n",
    " Overall: **$O(n^2)$**"
   ]
  },
  {
   "cell_type": "markdown",
   "metadata": {},
   "source": [
    "___ "
   ]
  },
  {
   "cell_type": "markdown",
   "metadata": {},
   "source": [
    "## <a name=\"permutate_array\">Permutate Elements of Array<a>\n",
    "    \n",
    "A = [a, b, c, d]<br>\n",
    "P = [2, 0, 1, 3]<br>\n",
    "permutated_array = [b, c, a, d]"
   ]
  },
  {
   "cell_type": "markdown",
   "metadata": {},
   "source": [
    "#### BRUTE FORCE SOLUTION:"
   ]
  },
  {
   "cell_type": "code",
   "execution_count": 19,
   "metadata": {},
   "outputs": [
    {
     "data": {
      "text/plain": [
       "['b', 'c', 'a', 'd']"
      ]
     },
     "execution_count": 19,
     "metadata": {},
     "output_type": "execute_result"
    }
   ],
   "source": [
    "A = ['a', 'b', 'c', 'd']\n",
    "P = [2, 0, 1, 3]\n",
    "\n",
    "PA = [0]*len(A)\n",
    "\n",
    "for a, p in zip(A,P):\n",
    "    PA[p] = a\n",
    "\n",
    "PA"
   ]
  },
  {
   "cell_type": "markdown",
   "metadata": {},
   "source": [
    "**Complexity**\n",
    "\n",
    "PA = **$O_S(n)$**\n",
    "\n",
    "zip(): **$O_T(1)$**<br>\n",
    "for a, p in zip(A,P): **$O_T(n)$**\n",
    "    \n",
    "Overall: **$O_T(n)$**, **$O_S(n)$**"
   ]
  },
  {
   "cell_type": "code",
   "execution_count": null,
   "metadata": {},
   "outputs": [],
   "source": []
  },
  {
   "cell_type": "code",
   "execution_count": 18,
   "metadata": {},
   "outputs": [
    {
     "data": {
      "text/plain": [
       "['b', 'a', 'c', 'd']"
      ]
     },
     "execution_count": 18,
     "metadata": {},
     "output_type": "execute_result"
    }
   ],
   "source": [
    "A = ['a', 'b', 'c', 'd']\n",
    "P = [2, 0, 1, 3]\n",
    "\n",
    "for a, p in zip(A,P):\n",
    "    A[A.index(a)], A[p] = A[p], A[A.index(a)]\n",
    "\n",
    "A"
   ]
  }
 ],
 "metadata": {
  "kernelspec": {
   "display_name": "Python 3",
   "language": "python",
   "name": "python3"
  },
  "language_info": {
   "codemirror_mode": {
    "name": "ipython",
    "version": 3
   },
   "file_extension": ".py",
   "mimetype": "text/x-python",
   "name": "python",
   "nbconvert_exporter": "python",
   "pygments_lexer": "ipython3",
   "version": "3.7.0"
  },
  "toc": {
   "base_numbering": 1,
   "nav_menu": {},
   "number_sections": true,
   "sideBar": true,
   "skip_h1_title": false,
   "title_cell": "Table of Contents",
   "title_sidebar": "Contents",
   "toc_cell": false,
   "toc_position": {},
   "toc_section_display": true,
   "toc_window_display": false
  },
  "varInspector": {
   "cols": {
    "lenName": 16,
    "lenType": 16,
    "lenVar": "500"
   },
   "kernels_config": {
    "python": {
     "delete_cmd_postfix": "",
     "delete_cmd_prefix": "del ",
     "library": "var_list.py",
     "varRefreshCmd": "print(var_dic_list())"
    },
    "r": {
     "delete_cmd_postfix": ") ",
     "delete_cmd_prefix": "rm(",
     "library": "var_list.r",
     "varRefreshCmd": "cat(var_dic_list()) "
    }
   },
   "types_to_exclude": [
    "module",
    "function",
    "builtin_function_or_method",
    "instance",
    "_Feature"
   ],
   "window_display": false
  }
 },
 "nbformat": 4,
 "nbformat_minor": 4
}
