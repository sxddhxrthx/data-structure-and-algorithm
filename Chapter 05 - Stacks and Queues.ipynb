{
 "cells": [
  {
   "cell_type": "markdown",
   "id": "e61728b0",
   "metadata": {},
   "source": [
    "# Stacks and Queues\n",
    "\n",
    "**Stacks:** LAST IN, FIRST OUT<br>\n",
    "**Queues:** FIRST IN, FIRST OUT"
   ]
  },
  {
   "cell_type": "markdown",
   "id": "42002533",
   "metadata": {
    "cell_style": "split"
   },
   "source": [
    "## Stacks\n",
    "\n",
    "Operations: \n",
    "\n",
    "| Operation    | Action     | Complexity |\n",
    "| :----------- | :----------|:-----------|\n",
    "| PUSH         | to add     |LinkedList: O(1), List: O(1)|\n",
    "| POP          | to delete  |LinkedList: O(1), List: O(1)|\n",
    "\n",
    "PUSH is O(1) because element gets appended at the end of the list\n",
    "\n",
    "POP is O(1) because element is removed from the end of the list\n",
    "\n",
    "peak() return the top of the stack"
   ]
  },
  {
   "cell_type": "code",
   "execution_count": 33,
   "id": "bd695fac",
   "metadata": {
    "cell_style": "split",
    "init_cell": true
   },
   "outputs": [],
   "source": [
    "class Stack:\n",
    "    \n",
    "    maxx = []\n",
    "     \n",
    "    def __init__(self):\n",
    "        self.item = []\n",
    "        \n",
    "        \n",
    "    def is_empty(self):\n",
    "        return self.item == []\n",
    "        \n",
    "    \n",
    "    def push(self, value):\n",
    "        self.item.append(value)\n",
    "    \n",
    "    \n",
    "    def pop(self):\n",
    "        removed_element = self.item.pop()\n",
    "        return removed_element\n",
    "            \n",
    "            \n",
    "    def peak(self):\n",
    "        \n",
    "        return self.item[-1]\n",
    "    \n",
    "    \n",
    "    def __len__(self):\n",
    "        return len(self.item)\n",
    "            \n",
    "    \n",
    "    def __repr__(self):\n",
    "        return  str(self.item)\n"
   ]
  },
  {
   "cell_type": "markdown",
   "id": "a38c3198",
   "metadata": {},
   "source": [
    "### Implement Max API of Stack"
   ]
  },
  {
   "cell_type": "markdown",
   "id": "4413a224",
   "metadata": {},
   "source": [
    "Since we are implementing Stack using list, using the default `max()` method to return the maximum value will have **O(n)** time complexity.<br>\n",
    "In order to reduce the time complexity, we create a auxilary list `maxx` which will always container the max of the Stack at the end of the list.<br>\n",
    "At PUSH, we will check if the element is greater than the last element of `maxx`, if yes, then we append the element to the `maxx` list also.<br>\n",
    "At POP, we will check if the removed element is equal to the last element of `maxx`, if yes, then we pop the element to the `maxx` list also.<br>"
   ]
  },
  {
   "cell_type": "code",
   "execution_count": 100,
   "id": "6d042a0e",
   "metadata": {
    "cell_style": "split"
   },
   "outputs": [],
   "source": [
    "class StackMaxAPI:\n",
    "    \n",
    "    maxx = []\n",
    "     \n",
    "    def __init__(self):\n",
    "        self.item = []\n",
    "        \n",
    "        \n",
    "    def is_empty(self):\n",
    "        return self.item == []\n",
    "        \n",
    "    \n",
    "    def push(self, val):\n",
    "        if self.is_empty() or val > self.maxx[-1]:\n",
    "            self.maxx.append(val)\n",
    "        self.item.append(val)\n",
    "        return f\"List:{self.item},Max:{self.max()}\"\n",
    "    \n",
    "    def pop(self):\n",
    "        removed_element = self.item.pop()\n",
    "        if removed_element == self.maxx[-1]:\n",
    "            self.maxx.pop()\n",
    "        return f\"List:{self.item},Max:{self.max()}\"\n",
    "            \n",
    "    def max(self):\n",
    "        return self.maxx[-1]\n",
    "    \n",
    "    \n",
    "    def peak(self):\n",
    "        return self.item[-1]\n",
    "    \n",
    "    \n",
    "    def __len__(self):\n",
    "        return len(self.item)\n",
    "            \n",
    "    \n",
    "    def __repr__(self):\n",
    "        return  str(self.item)"
   ]
  },
  {
   "cell_type": "code",
   "execution_count": 101,
   "id": "354f4df0",
   "metadata": {
    "cell_style": "split"
   },
   "outputs": [],
   "source": [
    "s = StackMaxAPI()"
   ]
  },
  {
   "cell_type": "code",
   "execution_count": 102,
   "id": "d6c995bc",
   "metadata": {
    "cell_style": "split"
   },
   "outputs": [
    {
     "data": {
      "text/plain": [
       "'List:[1],Max:1'"
      ]
     },
     "execution_count": 102,
     "metadata": {},
     "output_type": "execute_result"
    }
   ],
   "source": [
    "s.push(1)"
   ]
  },
  {
   "cell_type": "code",
   "execution_count": 103,
   "id": "c89f7781",
   "metadata": {
    "cell_style": "split"
   },
   "outputs": [
    {
     "data": {
      "text/plain": [
       "'List:[1, 2],Max:2'"
      ]
     },
     "execution_count": 103,
     "metadata": {},
     "output_type": "execute_result"
    }
   ],
   "source": [
    "s.push(2)"
   ]
  },
  {
   "cell_type": "code",
   "execution_count": 104,
   "id": "583c7bb5",
   "metadata": {
    "cell_style": "split"
   },
   "outputs": [
    {
     "data": {
      "text/plain": [
       "'List:[1, 2, 5],Max:5'"
      ]
     },
     "execution_count": 104,
     "metadata": {},
     "output_type": "execute_result"
    }
   ],
   "source": [
    "s.push(5)"
   ]
  },
  {
   "cell_type": "code",
   "execution_count": 105,
   "id": "3be4845c",
   "metadata": {
    "cell_style": "split"
   },
   "outputs": [
    {
     "data": {
      "text/plain": [
       "'List:[1, 2, 5, 3],Max:5'"
      ]
     },
     "execution_count": 105,
     "metadata": {},
     "output_type": "execute_result"
    }
   ],
   "source": [
    "s.push(3)"
   ]
  },
  {
   "cell_type": "code",
   "execution_count": 106,
   "id": "a54874d6",
   "metadata": {
    "cell_style": "split"
   },
   "outputs": [
    {
     "data": {
      "text/plain": [
       "'List:[1, 2, 5],Max:5'"
      ]
     },
     "execution_count": 106,
     "metadata": {},
     "output_type": "execute_result"
    }
   ],
   "source": [
    "s.pop()"
   ]
  },
  {
   "cell_type": "code",
   "execution_count": 107,
   "id": "ade5fbfb",
   "metadata": {
    "cell_style": "split"
   },
   "outputs": [
    {
     "data": {
      "text/plain": [
       "'List:[1, 2, 5, 6],Max:6'"
      ]
     },
     "execution_count": 107,
     "metadata": {},
     "output_type": "execute_result"
    }
   ],
   "source": [
    "s.push(6)"
   ]
  },
  {
   "cell_type": "code",
   "execution_count": 108,
   "id": "7292f462",
   "metadata": {
    "cell_style": "split"
   },
   "outputs": [
    {
     "data": {
      "text/plain": [
       "'List:[1, 2, 5],Max:5'"
      ]
     },
     "execution_count": 108,
     "metadata": {},
     "output_type": "execute_result"
    }
   ],
   "source": [
    "s.pop()"
   ]
  },
  {
   "cell_type": "code",
   "execution_count": 109,
   "id": "01960c3c",
   "metadata": {
    "cell_style": "split"
   },
   "outputs": [
    {
     "data": {
      "text/plain": [
       "[1, 2, 5]"
      ]
     },
     "execution_count": 109,
     "metadata": {},
     "output_type": "execute_result"
    }
   ],
   "source": [
    "s"
   ]
  },
  {
   "cell_type": "code",
   "execution_count": 110,
   "id": "854ee3ee",
   "metadata": {
    "cell_style": "split"
   },
   "outputs": [
    {
     "data": {
      "text/plain": [
       "5"
      ]
     },
     "execution_count": 110,
     "metadata": {},
     "output_type": "execute_result"
    }
   ],
   "source": [
    "s.max()"
   ]
  },
  {
   "cell_type": "markdown",
   "id": "2ee6bc8c",
   "metadata": {},
   "source": [
    "### Evaluate Reverse Polish Notation (RPN) Expression"
   ]
  },
  {
   "cell_type": "markdown",
   "id": "deb116e0",
   "metadata": {},
   "source": [
    "**Input:** 3 , 4, +, 2, X, 1, +<br>\n",
    "**Output:** 15"
   ]
  },
  {
   "cell_type": "code",
   "execution_count": 97,
   "id": "ec2b5884",
   "metadata": {},
   "outputs": [
    {
     "data": {
      "text/plain": [
       "7"
      ]
     },
     "execution_count": 97,
     "metadata": {},
     "output_type": "execute_result"
    }
   ],
   "source": [
    "op_a = \"4\"\n",
    "op_b = \"3\"\n",
    "operator = \"+\"\n",
    "exp = f\"{op_a}{operator}{op_b}\"\n",
    "eval(exp)"
   ]
  },
  {
   "cell_type": "markdown",
   "id": "82af7882",
   "metadata": {},
   "source": [
    "Traverse thr"
   ]
  },
  {
   "cell_type": "code",
   "execution_count": 167,
   "id": "21d3b2e1",
   "metadata": {},
   "outputs": [],
   "source": [
    "def evaluate(exp_list: list) -> int:\n",
    "    stack = Stack()\n",
    "    operators = ['+', '-', '*', '/']\n",
    "    for char in exp_list: # O(n)\n",
    "        if char in operators:\n",
    "            op_b = stack.pop()\n",
    "            op_a = stack.pop()\n",
    "            result = eval(f\"{op_a}{char}{op_b}\")\n",
    "            stack.push(result)\n",
    "        else:\n",
    "            stack.push(char)\n",
    "    return stack.peak()"
   ]
  },
  {
   "cell_type": "code",
   "execution_count": 166,
   "id": "428fb23d",
   "metadata": {},
   "outputs": [
    {
     "data": {
      "text/plain": [
       "-4"
      ]
     },
     "execution_count": 166,
     "metadata": {},
     "output_type": "execute_result"
    }
   ],
   "source": [
    "exp = \"3,4,+,2,*,1,+\"\n",
    "exp = \"-641,6,/,28,/\"\n",
    "exp = \"1,1,+,-2,*\"\n",
    "exp_list = exp.split(\",\")\n",
    "output = evaluate(exp_list)\n",
    "output"
   ]
  },
  {
   "cell_type": "markdown",
   "id": "3bb4b35f",
   "metadata": {},
   "source": [
    "### Well Formed Brackets"
   ]
  },
  {
   "cell_type": "code",
   "execution_count": 27,
   "id": "0f504567",
   "metadata": {},
   "outputs": [],
   "source": [
    "def bracket_checker(bracket_str: str) -> bool:\n",
    "    \n",
    "    stack = Stack()\n",
    "    bracket_pairs = {')':'(', ']':'[', '}':'{'}\n",
    "    \n",
    "    for bracket in bracket_str:\n",
    "        if bracket in list(')]}') and stack.peak() == bracket_pairs.get(bracket):\n",
    "            stack.pop()\n",
    "            continue\n",
    "        stack.push(bracket)\n",
    "    \n",
    "    return stack.is_empty()"
   ]
  },
  {
   "cell_type": "code",
   "execution_count": 28,
   "id": "b1f51548",
   "metadata": {},
   "outputs": [
    {
     "data": {
      "text/plain": [
       "True"
      ]
     },
     "execution_count": 28,
     "metadata": {},
     "output_type": "execute_result"
    }
   ],
   "source": [
    "bracket_checker('([]){()}')"
   ]
  },
  {
   "cell_type": "code",
   "execution_count": 29,
   "id": "34c030b4",
   "metadata": {},
   "outputs": [
    {
     "data": {
      "text/plain": [
       "False"
      ]
     },
     "execution_count": 29,
     "metadata": {},
     "output_type": "execute_result"
    }
   ],
   "source": [
    "bracket_checker('([]){()')"
   ]
  },
  {
   "cell_type": "code",
   "execution_count": 30,
   "id": "8981922c",
   "metadata": {},
   "outputs": [
    {
     "data": {
      "text/plain": [
       "False"
      ]
     },
     "execution_count": 30,
     "metadata": {},
     "output_type": "execute_result"
    }
   ],
   "source": [
    "bracket_checker('([){()}')"
   ]
  },
  {
   "cell_type": "code",
   "execution_count": 31,
   "id": "49a36f58",
   "metadata": {},
   "outputs": [
    {
     "data": {
      "text/plain": [
       "True"
      ]
     },
     "execution_count": 31,
     "metadata": {},
     "output_type": "execute_result"
    }
   ],
   "source": [
    "bracket_checker('()')"
   ]
  },
  {
   "cell_type": "markdown",
   "id": "3280f9fd",
   "metadata": {},
   "source": [
    "### Building with Sunset View"
   ]
  },
  {
   "cell_type": "code",
   "execution_count": 2,
   "id": "8ac0969e",
   "metadata": {},
   "outputs": [],
   "source": [
    "def  building_with_sunset_view(heights: list) -> Stack:\n",
    "    \n",
    "    stack = Stack()\n",
    "    \n",
    "    for building_height in reversed(heights):\n",
    "        \n",
    "        if stack.is_empty():\n",
    "            stack.push(building_height)\n",
    "            continue\n",
    "        \n",
    "        if building_height < stack.peak():\n",
    "            stack.push(building_height)\n",
    "        else:\n",
    "            while stack.is_empty() == False:\n",
    "                if building_height >= stack.peak():\n",
    "                    stack.pop()\n",
    "                else:\n",
    "                    break\n",
    "            stack.push(building_height)\n",
    "    \n",
    "    return stack"
   ]
  },
  {
   "cell_type": "code",
   "execution_count": 3,
   "id": "e130fdfb",
   "metadata": {},
   "outputs": [
    {
     "data": {
      "text/plain": [
       "[5, 4, 3]"
      ]
     },
     "execution_count": 3,
     "metadata": {},
     "output_type": "execute_result"
    }
   ],
   "source": [
    "building_with_sunset_view([3,1,2,4,2,4,5,4])"
   ]
  },
  {
   "cell_type": "markdown",
   "id": "f2253903",
   "metadata": {},
   "source": [
    "## QUEUES"
   ]
  },
  {
   "cell_type": "markdown",
   "id": "fa86c1b5",
   "metadata": {
    "cell_style": "split"
   },
   "source": [
    "Operations: \n",
    "\n",
    "| Operation    | Action     | Complexity |\n",
    "| :----------- | :----------|:-----------|\n",
    "| ENQUEUE         | \"inject\" element at the back<br><b>or</b><br>\"pushing\" element at the front<br>(in case of doubly ended queue)    |LinkedList: O(1), List: O(1)|\n",
    "| DEQUEUE         | \"popping\" element from the front<br><b>or</b><br>\"ejecting\" element from the front<br>(in case of doubly ended queue)  |LinkedList: O(1), List: O(1)|\n",
    "\n",
    "PUSH is O(1)<br>\n",
    "POP is O(1)\n",
    "\n",
    "tail() return the most recently inserted element.<br>\n",
    "head() return the least recently inserted element."
   ]
  },
  {
   "cell_type": "markdown",
   "id": "038754f3",
   "metadata": {
    "cell_style": "split"
   },
   "source": [
    "<b>Queue Implementation using `collections.deque`<b>"
   ]
  },
  {
   "cell_type": "code",
   "execution_count": 7,
   "id": "22c12ad8",
   "metadata": {
    "cell_style": "split"
   },
   "outputs": [],
   "source": [
    "from collections import deque\n",
    "\n",
    "class Queue:\n",
    "    \n",
    "    def __init__(self):\n",
    "        self.__data = deque()\n",
    "        \n",
    "    def enqueue(self, value):\n",
    "        self.__data.append(value)\n",
    "        \n",
    "    def dequeue(self):\n",
    "        self.__data.popleft()\n",
    "        \n",
    "    def max(self):\n",
    "        return max(self.__data)\n",
    "    \n",
    "    "
   ]
  },
  {
   "cell_type": "code",
   "execution_count": null,
   "id": "2ea46e67",
   "metadata": {},
   "outputs": [],
   "source": []
  },
  {
   "cell_type": "markdown",
   "id": "0fd735f3",
   "metadata": {
    "cell_style": "split"
   },
   "source": [
    "<b> Queue Implementation using List"
   ]
  },
  {
   "cell_type": "markdown",
   "id": "258e0fc8",
   "metadata": {
    "cell_style": "split"
   },
   "source": [
    "<b> Queue Implementation using Stacks"
   ]
  },
  {
   "cell_type": "code",
   "execution_count": 13,
   "id": "fe6613fe",
   "metadata": {
    "cell_style": "split"
   },
   "outputs": [],
   "source": [
    "class Queue:\n",
    "    \n",
    "    def __init__(self):\n",
    "        self.items = []\n",
    "    \n",
    "    def isempty(self):\n",
    "        return self.items == []\n",
    "    \n",
    "    def enqueue(self, value):\n",
    "        self.items.append(value)\n",
    "        \n",
    "    def dequeue(self):\n",
    "        self.items.pop(0)\n",
    "    \n",
    "    def head(self):\n",
    "        return self.items[0]\n",
    "    \n",
    "    def tail(self):\n",
    "        return self.items[-1]\n",
    "    \n",
    "    def __len__(self):\n",
    "        return len(self.items)"
   ]
  },
  {
   "cell_type": "code",
   "execution_count": 133,
   "id": "6e170e1d",
   "metadata": {
    "cell_style": "split"
   },
   "outputs": [],
   "source": [
    "class Queue:\n",
    "    \n",
    "    def __init__(self):\n",
    "        self.enq, self.deq = Stack(), Stack()\n",
    "        \n",
    "    def __len__(self):\n",
    "        return len(self.enq)\n",
    "        \n",
    "    def isempty(self):\n",
    "        return len(self.enq) == 0\n",
    "    \n",
    "    def enqueue(self, value):\n",
    "        self.enq.push(value)\n",
    "        \n",
    "    def dequeue(self):\n",
    "        if not self.enq.is_empty():\n",
    "            while len(self.enq) > 0:\n",
    "                self.deq.push(self.enq.pop())\n",
    "            r = self.deq.pop()\n",
    "            while len(self.deq) > 0:\n",
    "                self.enq.push(self.deq.pop())\n",
    "                "
   ]
  }
 ],
 "metadata": {
  "kernelspec": {
   "display_name": "Python 3",
   "language": "python",
   "name": "python3"
  },
  "language_info": {
   "codemirror_mode": {
    "name": "ipython",
    "version": 3
   },
   "file_extension": ".py",
   "mimetype": "text/x-python",
   "name": "python",
   "nbconvert_exporter": "python",
   "pygments_lexer": "ipython3",
   "version": "3.7.0"
  },
  "toc": {
   "base_numbering": 1,
   "nav_menu": {},
   "number_sections": true,
   "sideBar": true,
   "skip_h1_title": false,
   "title_cell": "Table of Contents",
   "title_sidebar": "Contents",
   "toc_cell": false,
   "toc_position": {},
   "toc_section_display": true,
   "toc_window_display": false
  },
  "varInspector": {
   "cols": {
    "lenName": 16,
    "lenType": 16,
    "lenVar": "500"
   },
   "kernels_config": {
    "python": {
     "delete_cmd_postfix": "",
     "delete_cmd_prefix": "del ",
     "library": "var_list.py",
     "varRefreshCmd": "print(var_dic_list())"
    },
    "r": {
     "delete_cmd_postfix": ") ",
     "delete_cmd_prefix": "rm(",
     "library": "var_list.r",
     "varRefreshCmd": "cat(var_dic_list()) "
    }
   },
   "position": {
    "height": "432.176px",
    "left": "994.907px",
    "right": "20px",
    "top": "120px",
    "width": "353.993px"
   },
   "types_to_exclude": [
    "module",
    "function",
    "builtin_function_or_method",
    "instance",
    "_Feature"
   ],
   "window_display": false
  }
 },
 "nbformat": 4,
 "nbformat_minor": 5
}
