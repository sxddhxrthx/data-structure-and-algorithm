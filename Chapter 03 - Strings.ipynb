{
 "cells": [
  {
   "cell_type": "markdown",
   "id": "f2670047",
   "metadata": {},
   "source": [
    "## Contents\n",
    "\n",
    "00. [Bootcamp](#bootcamp)\n",
    "01. [Interconvert String and Integer](#str_int)\n",
    "02. [Base Conversion](#base_convr)\n",
    "03. [Spreadsheet Column Encoding](#col_encode)\n",
    "04. [Remove and Replace](#remove_replace)\n",
    "05. [Test Palindromicity](#test_pald)\n",
    "06. [Reverse Words in Sentence](#rev_word)\n",
    "09. [Roman to Decimal](#romtodec)\n",
    "10. [Sinosodial Strings](#sine_strs)"
   ]
  },
  {
   "cell_type": "markdown",
   "id": "46c95304",
   "metadata": {},
   "source": [
    "### <a name=\"bootcamp\">Bootcamp</a>"
   ]
  },
  {
   "cell_type": "markdown",
   "id": "a9444d67",
   "metadata": {},
   "source": [
    "### Palindrome\n",
    "\n",
    "string  == reverse of itself"
   ]
  },
  {
   "cell_type": "raw",
   "id": "74219d27",
   "metadata": {},
   "source": [
    "name = 'malayalam'\n",
    "\n",
    "def is_palindrome(name):\n",
    "    print(all(name[i] == name[~i] for i in range(len(name)//2)))\n",
    "    \n",
    "is_palindrome(name)"
   ]
  },
  {
   "cell_type": "code",
   "execution_count": 46,
   "id": "93490eb0",
   "metadata": {},
   "outputs": [
    {
     "data": {
      "text/plain": [
       "3"
      ]
     },
     "execution_count": 46,
     "metadata": {},
     "output_type": "execute_result"
    }
   ],
   "source": [
    "23%10"
   ]
  },
  {
   "cell_type": "markdown",
   "id": "c286a057",
   "metadata": {},
   "source": [
    "### <a name=\"str_int\">Interconvert String and Integers</a>\n",
    "\n",
    "use `ord` method to convert a single character to its ascii value"
   ]
  },
  {
   "cell_type": "code",
   "execution_count": 69,
   "id": "ec71a935",
   "metadata": {},
   "outputs": [
    {
     "data": {
      "text/plain": [
       "1"
      ]
     },
     "execution_count": 69,
     "metadata": {},
     "output_type": "execute_result"
    }
   ],
   "source": [
    "123//10\n",
    "12//10\n",
    "1//10\n",
    "1%10"
   ]
  },
  {
   "cell_type": "code",
   "execution_count": 48,
   "id": "1fd4045c",
   "metadata": {},
   "outputs": [
    {
     "data": {
      "text/plain": [
       "0"
      ]
     },
     "execution_count": 48,
     "metadata": {},
     "output_type": "execute_result"
    }
   ],
   "source": [
    "ord('\\x00')"
   ]
  },
  {
   "cell_type": "markdown",
   "id": "1bca9d4c",
   "metadata": {},
   "source": [
    "### <a name=\"base_convr\">Base Conversion</a>"
   ]
  },
  {
   "cell_type": "code",
   "execution_count": null,
   "id": "b893c7aa",
   "metadata": {},
   "outputs": [],
   "source": []
  },
  {
   "cell_type": "markdown",
   "id": "b2c8f359",
   "metadata": {},
   "source": [
    "### <a name=\"col_encode\">Spreadsheet Column Encoding</a>"
   ]
  },
  {
   "cell_type": "code",
   "execution_count": 10,
   "id": "b468e18e",
   "metadata": {},
   "outputs": [
    {
     "name": "stdout",
     "output_type": "stream",
     "text": [
      "702\n"
     ]
    }
   ],
   "source": [
    "import math\n",
    "\n",
    "def encode_ss_cols(col_id:str) -> int:\n",
    "    \n",
    "    col_code = {}\n",
    "    for index, i in enumerate(range(65, 91)):\n",
    "        col_code[chr(i)] = index+1\n",
    "    \n",
    "#     col_code = {\n",
    "#        'A':1, 'B':2, 'C':3, ... ,'Z':26\n",
    "#     }\n",
    "    \n",
    "    \n",
    "    rev_col_id = reversed(col_id) #O(n)\n",
    "    exp, val = 0,0\n",
    "    \n",
    "    for i in rev_col_id: #O(n)\n",
    "        i_val = col_code.get(i)\n",
    "        val += i_val * math.pow(26, exp)\n",
    "        exp += 1\n",
    "        \n",
    "    return int(val)\n",
    "       \n",
    "opt = encode_ss_cols('ZZ')\n",
    "print(opt)\n",
    "\n",
    "# Overall O(n)"
   ]
  },
  {
   "cell_type": "markdown",
   "id": "1529c088",
   "metadata": {},
   "source": [
    "### <a name=\"remove_replace\">Remove and Replace</a>"
   ]
  },
  {
   "cell_type": "code",
   "execution_count": 17,
   "id": "7bd7d72b",
   "metadata": {},
   "outputs": [
    {
     "name": "stdout",
     "output_type": "stream",
     "text": [
      "['d', 'd', 'd', 'd']\n"
     ]
    }
   ],
   "source": [
    "def replace_remove(str_arr):\n",
    "    \n",
    "    count_of_a, count_of_b = 0, 0\n",
    "    \n",
    "    for i in str_arr: # O(n)\n",
    "        if i == 'a':\n",
    "            count_of_a += 1\n",
    "        if i == 'b':\n",
    "            count_of_b += 1\n",
    "            \n",
    "    while count_of_a: # O(n)\n",
    "        idx_a = str_arr.index('a')\n",
    "        str_arr[idx_a] = 'd'\n",
    "        str_arr.insert(idx_a+1, 'd') # O(n)\n",
    "        count_of_a -= 1\n",
    "        \n",
    "    while count_of_b: # O(n)\n",
    "        str_arr.remove('b') # O(n)\n",
    "        count_of_b -= 1\n",
    "    \n",
    "    print(str_arr)\n",
    "\n",
    "replace_remove(['a','b', 'b', 'a'])\n",
    "\n",
    "# Overall O(n^2)"
   ]
  },
  {
   "cell_type": "markdown",
   "id": "aeb8d73a",
   "metadata": {},
   "source": [
    "### <a name=\"test_pald\">Test Palindromicity</a>"
   ]
  },
  {
   "cell_type": "code",
   "execution_count": 38,
   "id": "9033c6fc",
   "metadata": {},
   "outputs": [
    {
     "name": "stdout",
     "output_type": "stream",
     "text": [
      "False\n"
     ]
    }
   ],
   "source": [
    "def is_palindrome(sentance:str)-> bool:\n",
    "    \n",
    "    \n",
    "    is_palindrome = True\n",
    "    sentance = sentance.replace(\",\", \"\").replace(\".\", \"\").lower()\n",
    "    if len(sentance) == 0:\n",
    "        is_palindrome = False\n",
    "    if len(sentance) == 1:\n",
    "        return is_palindrome\n",
    "    if len(sentance) > 1:\n",
    "        sentance = sentance.replace(\" \", \"\")\n",
    "        for i in range(len(sentance)//2):\n",
    "            if sentance[i] == sentance[~i]:\n",
    "                continue\n",
    "            else:\n",
    "                is_palindrome = False\n",
    "                break\n",
    "                \n",
    "    print(is_palindrome)\n",
    "        \n",
    "is_palindrome(\".\")"
   ]
  },
  {
   "cell_type": "markdown",
   "id": "8d4e074e",
   "metadata": {},
   "source": [
    "### <a name=\"rev_word\">Reverse Words in Sentence</a>"
   ]
  },
  {
   "cell_type": "code",
   "execution_count": 40,
   "id": "653b8f6e",
   "metadata": {},
   "outputs": [
    {
     "name": "stdout",
     "output_type": "stream",
     "text": [
      "Bhaskar Prabhunath Rekha Siddhartha\n"
     ]
    }
   ],
   "source": [
    "def reverse_words(sentence:str)->str:\n",
    "    \n",
    "    words = sentence.split(\" \")\n",
    "    \n",
    "    for i in range(len(words)//2):\n",
    "        words[i], words[~i] = words[~i], words[i]\n",
    "        \n",
    "    sentence = \" \".join(words)\n",
    "    return sentence\n",
    "\n",
    "reved = reverse_words(\"Siddhartha Rekha Prabhunath Bhaskar\")\n",
    "print(reved)"
   ]
  },
  {
   "cell_type": "markdown",
   "id": "c8e73b2a",
   "metadata": {},
   "source": [
    "### <a name=\"romtodec\"> Roman to Decimal </a>"
   ]
  },
  {
   "cell_type": "code",
   "execution_count": 12,
   "id": "d3b806f9",
   "metadata": {},
   "outputs": [
    {
     "name": "stdout",
     "output_type": "stream",
     "text": [
      "59\n",
      "59\n",
      "1900\n",
      "1504\n",
      "99\n"
     ]
    }
   ],
   "source": [
    "def roman_to_decimal(roman_num: str) -> int:\n",
    "    \n",
    "    roman_map = {'I': 1, 'V': 5, 'X': 10, 'L': 50, 'C': 100, 'D': 500, 'M': 1000}\n",
    "    decimal, prev_dec, prev_roman = 0, 0, ''\n",
    "    \n",
    "    for i in roman_num: # O(n)\n",
    "        decimal += roman_map.get(i)\n",
    "        if roman_map.get(prev_roman):\n",
    "            if roman_map.get(i) > prev_dec:\n",
    "                decimal -= prev_dec * 2\n",
    "#                 decimal -= roman_map.get(i) ---------------------/\n",
    "#                 additive = roman_map.get(i) - prev_dec ----------/  these 3 steps make up for...\n",
    "#                 decimal += additive -----------------------------/  decimal -= prev_dec*2\n",
    "\n",
    "        prev_roman = i\n",
    "        prev_dec = roman_map.get(prev_roman)\n",
    "    \n",
    "    return decimal\n",
    "\n",
    "\n",
    "print(roman_to_decimal('LVIIII'))\n",
    "print(roman_to_decimal('LIX'))\n",
    "print(roman_to_decimal('MCM'))\n",
    "print(roman_to_decimal('MDIV'))\n",
    "print(roman_to_decimal('IC'))\n",
    "\n",
    "# Overall: O(n)"
   ]
  },
  {
   "cell_type": "markdown",
   "id": "d8e15685",
   "metadata": {},
   "source": [
    "### <a name=\"sine_strs\"> Sinosodial Strings </a>"
   ]
  },
  {
   "cell_type": "code",
   "execution_count": 18,
   "id": "90197b2c",
   "metadata": {},
   "outputs": [
    {
     "data": {
      "text/plain": [
       "'Hellrldo WoHellrld'"
      ]
     },
     "execution_count": 18,
     "metadata": {},
     "output_type": "execute_result"
    }
   ],
   "source": [
    "def sin_str(sentence: str) -> str:\n",
    "    arr_top, arr_mid, arr_btm = [], [], []\n",
    "    pattern = [arr_mid, arr_top, arr_mid, arr_btm]\n",
    "    for idx, char in enumerate(sentence):\n",
    "        target_index = idx//4\n",
    "        pattern[target_index] += char\n",
    "\n",
    "    sin_str = \"\"\n",
    "    for i in pattern:\n",
    "        sin_str += \"\".join(i)\n",
    "        \n",
    "    return sin_str\n",
    "\n",
    "sin_str('Hello World')"
   ]
  },
  {
   "cell_type": "code",
   "execution_count": null,
   "id": "9c56b1fe",
   "metadata": {},
   "outputs": [],
   "source": []
  },
  {
   "cell_type": "code",
   "execution_count": null,
   "id": "984db84a",
   "metadata": {},
   "outputs": [],
   "source": []
  },
  {
   "cell_type": "code",
   "execution_count": 45,
   "id": "ea607585",
   "metadata": {},
   "outputs": [
    {
     "data": {
      "text/plain": [
       "'5a1b2c'"
      ]
     },
     "execution_count": 45,
     "metadata": {},
     "output_type": "execute_result"
    }
   ],
   "source": [
    "from collections import Counter\n",
    "\n",
    "s = \"aaabccaa\"\n",
    "# ctr = Counter(s)\n",
    "\n",
    "ctr = {} # =====================/\n",
    "for chr in s: # O(n) #          /\n",
    "    if ctr.get(chr): #          / ==>>  ctr = Counter(s)\n",
    "        ctr[chr] += 1 #         /\n",
    "    else: #                     /\n",
    "        ctr[chr] = 1 # =========/\n",
    "    \n",
    "    \n",
    "\n",
    "sentence = ''\n",
    "for key, value in ctr.items(): # O(n)\n",
    "    sentence += str(value) + key\n",
    "    \n",
    "sentence\n"
   ]
  },
  {
   "cell_type": "code",
   "execution_count": 44,
   "id": "a4776330",
   "metadata": {},
   "outputs": [
    {
     "data": {
      "text/plain": [
       "'eeeffffee'"
      ]
     },
     "execution_count": 44,
     "metadata": {},
     "output_type": "execute_result"
    }
   ],
   "source": [
    "def decode(encoded_str: str) -> str:\n",
    "    decoded_str = ''\n",
    "    for i in encoded_str:\n",
    "        if i.isnumeric():\n",
    "            decoded_str += '~'*int(i)\n",
    "        else:\n",
    "            decoded_str = decoded_str.replace('~', i)\n",
    "\n",
    "    return decoded_str\n",
    "\n",
    "decode('3e4f2e')"
   ]
  }
 ],
 "metadata": {
  "kernelspec": {
   "display_name": "Python 3",
   "language": "python",
   "name": "python3"
  },
  "language_info": {
   "codemirror_mode": {
    "name": "ipython",
    "version": 3
   },
   "file_extension": ".py",
   "mimetype": "text/x-python",
   "name": "python",
   "nbconvert_exporter": "python",
   "pygments_lexer": "ipython3",
   "version": "3.7.0"
  }
 },
 "nbformat": 4,
 "nbformat_minor": 5
}
