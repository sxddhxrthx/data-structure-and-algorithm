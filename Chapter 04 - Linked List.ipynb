{
 "cells": [
  {
   "cell_type": "markdown",
   "id": "f1216d30",
   "metadata": {},
   "source": [
    "## Linked List\n",
    "\n",
    "start: Head; end: Tail\n",
    "node: data + next_pointer"
   ]
  },
  {
   "cell_type": "code",
   "execution_count": 22,
   "id": "e20f7180",
   "metadata": {},
   "outputs": [
    {
     "data": {
      "text/plain": [
       "Sid"
      ]
     },
     "execution_count": 22,
     "metadata": {},
     "output_type": "execute_result"
    }
   ],
   "source": [
    "from typing import Any\n",
    "\n",
    "class LinkedList:\n",
    "    def __init__(self):\n",
    "        self.head = None\n",
    "        \n",
    "class ListNode:\n",
    "    \n",
    "    def __init__(self, data:Any = 0, next_node = None):\n",
    "        self.data = data\n",
    "        self.next_node = next_node\n",
    "        \n",
    "    def __repr__(self):\n",
    "        return self.data\n",
    "        \n",
    "linkedlist = LinkedList()\n",
    "head_node = ListNode(data=\"Sid\")\n",
    "head_node"
   ]
  },
  {
   "cell_type": "code",
   "execution_count": 1,
   "id": "68981d24",
   "metadata": {
    "init_cell": true
   },
   "outputs": [],
   "source": [
    "class Node:\n",
    "    def __init__(self, data=0):\n",
    "        self.data = data\n",
    "        self.next = None\n",
    "\n",
    "    def __repr__(self):\n",
    "        return self.data\n",
    "    \n",
    "    def __str__(self):\n",
    "        return str(self.data)"
   ]
  },
  {
   "cell_type": "code",
   "execution_count": 2,
   "id": "97de9540",
   "metadata": {
    "init_cell": true
   },
   "outputs": [],
   "source": [
    "class LinkedList:\n",
    "    def __init__(self):\n",
    "        self.head = None\n",
    "\n",
    "    def __repr__(self):\n",
    "        node = self.head\n",
    "        nodes = []\n",
    "        while node is not None:\n",
    "            nodes.append(str(node))\n",
    "            node = node.next\n",
    "#         nodes.append(\"None\")\n",
    "#         return str(nodes)\n",
    "        return \" -> \".join(nodes)\n",
    "    \n",
    "    # traversing the LinkedList\n",
    "    def __iter__(self): \n",
    "        node = self.head\n",
    "        while node is not None:\n",
    "            yield node\n",
    "            node = node.next\n",
    "            \n",
    "    def insert_after(self, node, new_node): # O(1)\n",
    "        new_node.next = node.next\n",
    "        node.next = new_node\n",
    "        \n",
    "    def insert_before(self, node, new_node): # O(n)\n",
    "        for _ in self:\n",
    "            if _.next == node:\n",
    "                _.next = new_node\n",
    "                new_node.next = node\n",
    "                \n",
    "    def append(self, new_node): # O(n)\n",
    "        for _ in self:\n",
    "            pass\n",
    "        _.next = new_node\n",
    "        \n",
    "    def prepend(self, new_node): # O(1)\n",
    "        new_node.next = self.head\n",
    "        self.head = new_node\n",
    "        \n",
    "    def delete(self, node): # O(n)\n",
    "        for _ in self:\n",
    "            if _.next == node:\n",
    "                _.next = node.next\n",
    "                \n",
    "    def head_(self):\n",
    "        return self.head\n",
    "    \n",
    "    def tail(self):\n",
    "        for _ in self:\n",
    "            pass\n",
    "        return _"
   ]
  },
  {
   "cell_type": "code",
   "execution_count": 4,
   "id": "f0f4567b",
   "metadata": {},
   "outputs": [],
   "source": [
    "ll = LinkedList()\n",
    "ll.head"
   ]
  },
  {
   "cell_type": "code",
   "execution_count": 13,
   "id": "b05419bc",
   "metadata": {},
   "outputs": [
    {
     "name": "stdout",
     "output_type": "stream",
     "text": [
      "a\n",
      "b\n"
     ]
    }
   ],
   "source": [
    "ll = LinkedList()\n",
    "node_a = Node(\"a\")\n",
    "node_b = Node(\"b\")\n",
    "node_a.next = node_b\n",
    "ll.head = node_a\n",
    "for _ in ll:\n",
    "    print(_)"
   ]
  },
  {
   "cell_type": "code",
   "execution_count": 26,
   "id": "5456b3aa",
   "metadata": {},
   "outputs": [
    {
     "data": {
      "text/plain": [
       "[a, b, c, 'None']"
      ]
     },
     "execution_count": 26,
     "metadata": {},
     "output_type": "execute_result"
    }
   ],
   "source": [
    "node_c = Node()\n",
    "node_c.data = \"c\"\n",
    "node_c.data\n",
    "node_b.next = node_c\n",
    "ll"
   ]
  },
  {
   "cell_type": "code",
   "execution_count": 27,
   "id": "4465dad4",
   "metadata": {},
   "outputs": [
    {
     "name": "stdout",
     "output_type": "stream",
     "text": [
      "a\n",
      "b\n",
      "c\n"
     ]
    }
   ],
   "source": [
    "for _ in ll:\n",
    "    print(_)"
   ]
  },
  {
   "cell_type": "code",
   "execution_count": 28,
   "id": "4b32ef31",
   "metadata": {},
   "outputs": [
    {
     "data": {
      "text/plain": [
       "[a, b, d, c, 'None']"
      ]
     },
     "execution_count": 28,
     "metadata": {},
     "output_type": "execute_result"
    }
   ],
   "source": [
    "node_d = Node(\"d\")\n",
    "ll.insert_after(node_b, node_d)\n",
    "ll"
   ]
  },
  {
   "cell_type": "code",
   "execution_count": 29,
   "id": "2e076dd2",
   "metadata": {},
   "outputs": [
    {
     "data": {
      "text/plain": [
       "[a, e, b, d, c, 'None']"
      ]
     },
     "execution_count": 29,
     "metadata": {},
     "output_type": "execute_result"
    }
   ],
   "source": [
    "node_e = Node(\"e\")\n",
    "ll.insert_before(node_b, node_e)\n",
    "ll"
   ]
  },
  {
   "cell_type": "code",
   "execution_count": 30,
   "id": "d686cdc4",
   "metadata": {},
   "outputs": [
    {
     "data": {
      "text/plain": [
       "[a, e, b, d, c, f, 'None']"
      ]
     },
     "execution_count": 30,
     "metadata": {},
     "output_type": "execute_result"
    }
   ],
   "source": [
    "node_f = Node(\"f\")\n",
    "ll.append(node_f)\n",
    "ll"
   ]
  },
  {
   "cell_type": "code",
   "execution_count": 31,
   "id": "0e26e677",
   "metadata": {},
   "outputs": [
    {
     "data": {
      "text/plain": [
       "[g, a, e, b, d, c, f, 'None']"
      ]
     },
     "execution_count": 31,
     "metadata": {},
     "output_type": "execute_result"
    }
   ],
   "source": [
    "node_g = Node(\"g\")\n",
    "ll.prepend(node_g)\n",
    "ll"
   ]
  },
  {
   "cell_type": "code",
   "execution_count": 32,
   "id": "e3c6068c",
   "metadata": {},
   "outputs": [
    {
     "data": {
      "text/plain": [
       "[g, a, b, d, c, f, 'None']"
      ]
     },
     "execution_count": 32,
     "metadata": {},
     "output_type": "execute_result"
    }
   ],
   "source": [
    "ll.delete(node_e)\n",
    "ll"
   ]
  },
  {
   "cell_type": "code",
   "execution_count": 33,
   "id": "9868cfbd",
   "metadata": {},
   "outputs": [
    {
     "data": {
      "text/plain": [
       "g"
      ]
     },
     "execution_count": 33,
     "metadata": {},
     "output_type": "execute_result"
    }
   ],
   "source": [
    "ll.head_()"
   ]
  },
  {
   "cell_type": "code",
   "execution_count": 34,
   "id": "a6e12869",
   "metadata": {},
   "outputs": [
    {
     "data": {
      "text/plain": [
       "f"
      ]
     },
     "execution_count": 34,
     "metadata": {},
     "output_type": "execute_result"
    }
   ],
   "source": [
    "ll.tail()"
   ]
  },
  {
   "cell_type": "code",
   "execution_count": 35,
   "id": "eec86de3",
   "metadata": {},
   "outputs": [
    {
     "data": {
      "text/plain": [
       "['None']"
      ]
     },
     "execution_count": 35,
     "metadata": {},
     "output_type": "execute_result"
    }
   ],
   "source": [
    "l2 = LinkedList()\n",
    "l2"
   ]
  },
  {
   "cell_type": "code",
   "execution_count": null,
   "id": "04d90a47",
   "metadata": {},
   "outputs": [],
   "source": []
  },
  {
   "cell_type": "markdown",
   "id": "a3bfed72",
   "metadata": {},
   "source": [
    "## Merge Sorted Lists\n",
    "\n",
    "**List A:** 2 ->  5  -> 7<br>\n",
    "**List B:**: 3  ->  11\n",
    "\n",
    "Merged: 2  ->  3 ->  5  ->  7  -> 11"
   ]
  },
  {
   "cell_type": "markdown",
   "id": "a54bc227",
   "metadata": {
    "cell_style": "split"
   },
   "source": [
    "#### Creating List A"
   ]
  },
  {
   "cell_type": "markdown",
   "id": "3255f4ea",
   "metadata": {
    "cell_style": "split"
   },
   "source": [
    "#### Creating List B"
   ]
  },
  {
   "cell_type": "code",
   "execution_count": 4,
   "id": "9b33a0a3",
   "metadata": {
    "cell_style": "split"
   },
   "outputs": [],
   "source": [
    "list_a = LinkedList()\n",
    "node_a1 = Node(2)\n",
    "node_a2 = Node(5)\n",
    "node_a3 = Node(7)\n",
    "\n",
    "list_a.head = node_a1\n",
    "list_a.append(node_a2)\n",
    "list_a.append(node_a3)"
   ]
  },
  {
   "cell_type": "code",
   "execution_count": 5,
   "id": "f90df682",
   "metadata": {
    "cell_style": "split"
   },
   "outputs": [],
   "source": [
    "list_b = LinkedList()\n",
    "node_b1 = Node(3)\n",
    "node_b2 = Node(11)\n",
    "\n",
    "list_b.head = node_b1\n",
    "list_b.append(node_b2)"
   ]
  },
  {
   "cell_type": "code",
   "execution_count": 6,
   "id": "598d6a51",
   "metadata": {},
   "outputs": [],
   "source": [
    "def merge_lists(head_a: Node, head_b:Node) -> Node:\n",
    "    \n",
    "    dummy_node = tail = Node()\n",
    "    \n",
    "    while True:\n",
    "        \n",
    "        if head_a is None:\n",
    "            tail.next = head_b\n",
    "            break\n",
    "        if head_b is None:\n",
    "            tail.next = head_a\n",
    "            break\n",
    "            \n",
    "        if head_a.data <= head_b.data:\n",
    "            tail.next =  head_a\n",
    "            head_a = head_a.next\n",
    "        else:\n",
    "            tail.next =  head_b\n",
    "            head_b = head_b.next\n",
    "        tail = tail.next\n",
    "        \n",
    "    return dummy_node.next"
   ]
  },
  {
   "cell_type": "code",
   "execution_count": 7,
   "id": "a203fc00",
   "metadata": {},
   "outputs": [
    {
     "data": {
      "text/plain": [
       "2 -> 3 -> 5 -> 7 -> 11"
      ]
     },
     "execution_count": 7,
     "metadata": {},
     "output_type": "execute_result"
    }
   ],
   "source": [
    "list_a.head = merge_lists(node_a1, node_b1)\n",
    "list_a"
   ]
  },
  {
   "cell_type": "markdown",
   "id": "59b8f2f3",
   "metadata": {},
   "source": [
    "## Reverse Single Sublist\n",
    "\n",
    "**List:** 11 -> 3 -> 5 -> 7 -> 2<br>\n",
    "\n",
    "**Reverse from(s):** Element at position 2<br>\n",
    "**Reverse till(f):** Element at position 4<br>\n",
    "\n",
    "**Output List:** 11  -> 7 -> 5 -> 3 -> 2"
   ]
  },
  {
   "cell_type": "code",
   "execution_count": null,
   "id": "3d521912",
   "metadata": {},
   "outputs": [],
   "source": [
    "def reverse_single_sublist(s)"
   ]
  },
  {
   "cell_type": "markdown",
   "id": "08a3e28a",
   "metadata": {},
   "source": [
    "## Remove _k_th last element from the linked list"
   ]
  },
  {
   "cell_type": "code",
   "execution_count": 7,
   "id": "28f5bf4a",
   "metadata": {},
   "outputs": [
    {
     "data": {
      "text/plain": [
       "1 -> 2 -> 3 -> 4 -> 5 -> 6 -> 7 -> 8"
      ]
     },
     "execution_count": 7,
     "metadata": {},
     "output_type": "execute_result"
    }
   ],
   "source": [
    "list_a = LinkedList()\n",
    "node_a1 = Node(1)\n",
    "node_a2 = Node(2)\n",
    "node_a3 = Node(3)\n",
    "node_a4 = Node(4)\n",
    "node_a5 = Node(5)\n",
    "node_a6 = Node(6)\n",
    "node_a7 = Node(7)\n",
    "node_a8 = Node(8)\n",
    "\n",
    "list_a.head = node_a1\n",
    "list_a.append(node_a2)\n",
    "list_a.append(node_a3)\n",
    "list_a.append(node_a4)\n",
    "list_a.append(node_a5)\n",
    "list_a.append(node_a6)\n",
    "list_a.append(node_a7)\n",
    "list_a.append(node_a8)\n",
    "\n",
    "list_a"
   ]
  },
  {
   "cell_type": "code",
   "execution_count": 36,
   "id": "2a7606ee",
   "metadata": {},
   "outputs": [
    {
     "name": "stdout",
     "output_type": "stream",
     "text": [
      "node 1 removal: 8\n",
      "node 2 removal: None\n"
     ]
    },
    {
     "data": {
      "text/plain": [
       "1 -> 2 -> 4 -> 5 -> 6 -> 7 -> 8"
      ]
     },
     "execution_count": 36,
     "metadata": {},
     "output_type": "execute_result"
    }
   ],
   "source": [
    "def remove_kth_last(list, k):\n",
    "    \n",
    "    kth_next = \".next\"*(k+1)\n",
    "    for node in list:\n",
    "        node_str = \"node\"\n",
    "        eval_str = node_str + kth_next\n",
    "        \n",
    "        print(\"node\", node, \"removal:\", eval(eval_str))\n",
    "        if eval(eval_str) is None:\n",
    "            node.next = node.next.next\n",
    "            break\n",
    "    return list\n",
    "        \n",
    "        \n",
    "l = remove_kth_last(list_a, 6)\n",
    "l"
   ]
  },
  {
   "cell_type": "markdown",
   "id": "b6f6a921",
   "metadata": {},
   "source": [
    "## Remove Duplicates from Sorted List"
   ]
  },
  {
   "cell_type": "markdown",
   "id": "8d13cdf4",
   "metadata": {
    "cell_style": "split"
   },
   "source": [
    "#### Creating Nodes"
   ]
  },
  {
   "cell_type": "markdown",
   "id": "1574991a",
   "metadata": {
    "cell_style": "split"
   },
   "source": [
    "#### Append Nodes to the list"
   ]
  },
  {
   "cell_type": "code",
   "execution_count": 4,
   "id": "8dcf5973",
   "metadata": {
    "cell_style": "split"
   },
   "outputs": [],
   "source": [
    "list_a = LinkedList()\n",
    "node_a1 = Node(1)\n",
    "node_a2 = Node(2)\n",
    "node_a3 = Node(2)\n",
    "node_a4 = Node(4)\n",
    "node_a5 = Node(5)\n",
    "node_a6 = Node(6)\n",
    "node_a7 = Node(6)\n",
    "node_a8 = Node(8)"
   ]
  },
  {
   "cell_type": "code",
   "execution_count": 5,
   "id": "2bdd38d7",
   "metadata": {
    "cell_style": "split"
   },
   "outputs": [
    {
     "data": {
      "text/plain": [
       "1 -> 2 -> 2 -> 4 -> 5 -> 6 -> 6 -> 8"
      ]
     },
     "execution_count": 5,
     "metadata": {},
     "output_type": "execute_result"
    }
   ],
   "source": [
    "list_a.head = node_a1\n",
    "list_a.append(node_a2)\n",
    "list_a.append(node_a3)\n",
    "list_a.append(node_a4)\n",
    "list_a.append(node_a5)\n",
    "list_a.append(node_a6)\n",
    "list_a.append(node_a7)\n",
    "list_a.append(node_a8)\n",
    "\n",
    "list_a"
   ]
  },
  {
   "cell_type": "code",
   "execution_count": 51,
   "id": "c135316c",
   "metadata": {},
   "outputs": [
    {
     "data": {
      "text/plain": [
       "1 -> 2 -> 4 -> 5 -> 6 -> 8"
      ]
     },
     "execution_count": 51,
     "metadata": {},
     "output_type": "execute_result"
    }
   ],
   "source": [
    "def remove_duplicate_element(list: LinkedList) -> LinkedList:\n",
    "    for node in list:\n",
    "        if node.next:\n",
    "            if node.data == node.next.data:\n",
    "                node.next = node.next.next\n",
    "    return list\n",
    "\n",
    "l = remove_duplicate_element(list_a)\n",
    "l"
   ]
  },
  {
   "cell_type": "markdown",
   "id": "850bcc3c",
   "metadata": {},
   "source": [
    "## Implement Cyclic Right Shifts\n",
    "\n",
    "**List**: 2 -> 3 -> 5 -> 3 -> 2 -> None\n",
    "\n",
    "`Make 3 rigt shifts:`\n",
    "\n",
    "1st right shift: 2 -> 2 -> -> 3 -> 5 -> 3 -> None<br>\n",
    "2nd right shift: 3 -> 2 -> -> 2 -> 3 -> 5 -> None<br>\n",
    "3rd right shift: 5 -> 3 -> -> 2 -> 2 -> 3 -> None<br>"
   ]
  },
  {
   "cell_type": "code",
   "execution_count": 20,
   "id": "337b2236",
   "metadata": {},
   "outputs": [
    {
     "data": {
      "text/plain": [
       "2 -> 3 -> 5 -> 3 -> 2"
      ]
     },
     "execution_count": 20,
     "metadata": {},
     "output_type": "execute_result"
    }
   ],
   "source": [
    "list_a = LinkedList()\n",
    "node_a1 = Node(2)\n",
    "node_a2 = Node(3)\n",
    "node_a3 = Node(5)\n",
    "node_a4 = Node(3)\n",
    "node_a5 = Node(2)\n",
    "\n",
    "list_a.head = node_a1\n",
    "list_a.append(node_a2)\n",
    "list_a.append(node_a3)\n",
    "list_a.append(node_a4)\n",
    "list_a.append(node_a5)\n",
    "\n",
    "list_a"
   ]
  },
  {
   "cell_type": "code",
   "execution_count": 17,
   "id": "eec3b8ec",
   "metadata": {},
   "outputs": [],
   "source": [
    "def make_cyclic_shift(llist: LinkedList, k:int) -> LinkedList:\n",
    "    \n",
    "    for _ in range(k):\n",
    "        \n",
    "        node = curr_head = llist.head\n",
    "        while node.next:\n",
    "            if node.next.next is None:\n",
    "                llist.head = node.next\n",
    "                llist.head.next = curr_head\n",
    "                node.next = None\n",
    "                break\n",
    "            node = node.next\n",
    "    return llist"
   ]
  },
  {
   "cell_type": "code",
   "execution_count": 18,
   "id": "1c03f076",
   "metadata": {},
   "outputs": [
    {
     "data": {
      "text/plain": [
       "2 -> 3 -> 5 -> 3 -> 2"
      ]
     },
     "execution_count": 18,
     "metadata": {},
     "output_type": "execute_result"
    }
   ],
   "source": [
    "k_shifted_list = make_cyclic_shift(list_a, 50)\n",
    "k_shifted_list"
   ]
  },
  {
   "cell_type": "markdown",
   "id": "1c7c1343",
   "metadata": {},
   "source": [
    "## Implement Even-Odd Merge"
   ]
  },
  {
   "cell_type": "code",
   "execution_count": 9,
   "id": "0f2653d3",
   "metadata": {},
   "outputs": [
    {
     "name": "stdout",
     "output_type": "stream",
     "text": [
      "2 -> 3 -> 5 -> 3 -> 2\n"
     ]
    }
   ],
   "source": [
    "list_a = LinkedList()\n",
    "node_a1 = Node(2)\n",
    "node_a2 = Node(3)\n",
    "node_a3 = Node(5)\n",
    "node_a4 = Node(3)\n",
    "node_a5 = Node(2)\n",
    "\n",
    "list_a.head = node_a1\n",
    "list_a.append(node_a2)\n",
    "list_a.append(node_a3)\n",
    "list_a.append(node_a4)\n",
    "list_a.append(node_a5)\n",
    "\n",
    "print(list_a)"
   ]
  },
  {
   "cell_type": "code",
   "execution_count": 10,
   "id": "6bc1d424",
   "metadata": {
    "cell_style": "center"
   },
   "outputs": [],
   "source": [
    "def even_odd_merge(llist: LinkedList) -> LinkedList:\n",
    "    eb = even_head = Node()\n",
    "    ob = odd_head = Node()\n",
    "    print(eb, ob, even_head, odd_head)\n",
    "    node_number = 0\n",
    "    for node in llist:\n",
    "        print(\"for node: \", node)\n",
    "        if node_number % 2 == 0:\n",
    "            print(\"for even node number: \", node_number)\n",
    "            even_head.next = node\n",
    "            print(\"Next of \", even_head, \" is \", even_head.next)\n",
    "            even_head = even_head.next\n",
    "            print(\"Now even head is: \", even_head)\n",
    "#             even_head.next = None\n",
    "        else:\n",
    "            print(\"for odd node number: \", node_number)\n",
    "            odd_head.next = node\n",
    "            print(\"Next of \", odd_head, \" is \", odd_head.next)\n",
    "            odd_head = odd_head.next\n",
    "            print(\"Now odd head is: \", odd_head)\n",
    "#             odd_head.next = None\n",
    "        node_number += 1\n",
    "    print(\"Attaching odd to even  list...\")\n",
    "    \n",
    "    llist.head = eb\n",
    "    even_head.next = ob.next\n",
    "    \n",
    "    return llist"
   ]
  },
  {
   "cell_type": "code",
   "execution_count": null,
   "id": "cdd31902",
   "metadata": {
    "cell_style": "center",
    "collapsed": true
   },
   "outputs": [
    {
     "name": "stdout",
     "output_type": "stream",
     "text": [
      "0 0 0 0\n",
      "for node:  2\n",
      "for even node number:  0\n",
      "Next of  0  is  2\n",
      "Now even head is:  2\n",
      "for node:  3\n",
      "for odd node number:  1\n",
      "Next of  0  is  3\n",
      "Now odd head is:  3\n",
      "for node:  5\n",
      "for even node number:  2\n",
      "Next of  2  is  5\n",
      "Now even head is:  5\n",
      "for node:  3\n",
      "for odd node number:  3\n",
      "Next of  3  is  3\n",
      "Now odd head is:  3\n",
      "for node:  2\n",
      "for even node number:  4\n",
      "Next of  5  is  2\n",
      "Now even head is:  2\n",
      "Attaching odd to even  list...\n"
     ]
    }
   ],
   "source": [
    "mergedlist = even_odd_merge(list_a)\n",
    "mergedlist"
   ]
  },
  {
   "cell_type": "markdown",
   "id": "5581bd9d",
   "metadata": {},
   "source": [
    "## Palindrome Test\n",
    "\n",
    "LinkedList: 2 -> 3 -> 5 -> 3 -> 2<br>\n",
    "ReversedLinkedList: 2 <- 3 <- 5 <- 3 <- 2"
   ]
  },
  {
   "cell_type": "code",
   "execution_count": 15,
   "id": "a5e97765",
   "metadata": {},
   "outputs": [
    {
     "name": "stdout",
     "output_type": "stream",
     "text": [
      "2 -> 3 -> 5 -> 3 -> 2\n"
     ]
    }
   ],
   "source": [
    "list_a = LinkedList()\n",
    "node_a1 = Node(2)\n",
    "node_a2 = Node(3)\n",
    "node_a3 = Node(5)\n",
    "node_a4 = Node(3)\n",
    "node_a5 = Node(2)\n",
    "\n",
    "list_a.head = node_a1\n",
    "list_a.append(node_a2)\n",
    "list_a.append(node_a3)\n",
    "list_a.append(node_a4)\n",
    "list_a.append(node_a5)\n",
    "\n",
    "print(list_a)"
   ]
  },
  {
   "cell_type": "code",
   "execution_count": 16,
   "id": "5d45c54f",
   "metadata": {},
   "outputs": [
    {
     "name": "stdout",
     "output_type": "stream",
     "text": [
      "for 2 in  2 -> 3 -> 5 -> 3 -> 2  :\n",
      "current: 2\n",
      "n= 3\n",
      "current.next =  None\n",
      "prev= 2\n",
      "current= 3\n",
      "for 2 in  2  :\n",
      "current: 3\n",
      "n= 5\n",
      "current.next =  2\n",
      "prev= 2\n",
      "current= 5\n",
      "for 2 in  2  :\n",
      "current: 5\n",
      "n= 3\n",
      "current.next =  2\n",
      "prev= 2\n",
      "current= 3\n",
      "for 2 in  2  :\n",
      "current: 3\n",
      "n= 2\n",
      "current.next =  2\n",
      "prev= 2\n",
      "current= 2\n",
      "for 2 in  2  :\n",
      "current: 2\n",
      "n= None\n",
      "current.next =  2\n",
      "prev= 2\n",
      "current= None\n"
     ]
    },
    {
     "data": {
      "text/plain": [
       "2"
      ]
     },
     "execution_count": 16,
     "metadata": {},
     "output_type": "execute_result"
    }
   ],
   "source": [
    "prev = None\n",
    "current = list_a.head\n",
    "while current:\n",
    "    print(\"for\", node, \"in \", list_a, \" :\")\n",
    "    print(\"current:\", current)\n",
    "    print(\"n=\", current.next)\n",
    "    n = current.next\n",
    "    print(\"current.next = \", prev)\n",
    "    current.next = prev\n",
    "    print(\"prev=\", node)\n",
    "    prev = node\n",
    "    print(\"current=\",n)\n",
    "    current = n\n",
    "    \n",
    "list_a"
   ]
  },
  {
   "cell_type": "code",
   "execution_count": 19,
   "id": "dff19553",
   "metadata": {},
   "outputs": [
    {
     "name": "stdout",
     "output_type": "stream",
     "text": [
      "[]\n"
     ]
    }
   ],
   "source": [
    "print(0 or {} or [])"
   ]
  },
  {
   "cell_type": "code",
   "execution_count": null,
   "id": "ca908dd9",
   "metadata": {},
   "outputs": [],
   "source": []
  }
 ],
 "metadata": {
  "celltoolbar": "Initialization Cell",
  "kernelspec": {
   "display_name": "Python 3",
   "language": "python",
   "name": "python3"
  },
  "language_info": {
   "codemirror_mode": {
    "name": "ipython",
    "version": 3
   },
   "file_extension": ".py",
   "mimetype": "text/x-python",
   "name": "python",
   "nbconvert_exporter": "python",
   "pygments_lexer": "ipython3",
   "version": "3.7.0"
  },
  "toc": {
   "base_numbering": 1,
   "nav_menu": {
    "height": "488.97px",
    "width": "239.977px"
   },
   "number_sections": true,
   "sideBar": true,
   "skip_h1_title": false,
   "title_cell": "Table of Contents",
   "title_sidebar": "Contents",
   "toc_cell": false,
   "toc_position": {},
   "toc_section_display": true,
   "toc_window_display": false
  },
  "varInspector": {
   "cols": {
    "lenName": 16,
    "lenType": 16,
    "lenVar": "500"
   },
   "kernels_config": {
    "python": {
     "delete_cmd_postfix": "",
     "delete_cmd_prefix": "del ",
     "library": "var_list.py",
     "varRefreshCmd": "print(var_dic_list())"
    },
    "r": {
     "delete_cmd_postfix": ") ",
     "delete_cmd_prefix": "rm(",
     "library": "var_list.r",
     "varRefreshCmd": "cat(var_dic_list()) "
    }
   },
   "types_to_exclude": [
    "module",
    "function",
    "builtin_function_or_method",
    "instance",
    "_Feature"
   ],
   "window_display": false
  }
 },
 "nbformat": 4,
 "nbformat_minor": 5
}
